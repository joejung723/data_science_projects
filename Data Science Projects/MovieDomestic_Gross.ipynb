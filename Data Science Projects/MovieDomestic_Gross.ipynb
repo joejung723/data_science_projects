{
  "nbformat": 4,
  "nbformat_minor": 0,
  "metadata": {
    "colab": {
      "name": "MovieDomestic%Gross.ipynb",
      "provenance": [],
      "authorship_tag": "ABX9TyOdnrMzZ9p8hJRz6Ot1Z3cQ",
      "include_colab_link": true
    },
    "kernelspec": {
      "name": "python3",
      "display_name": "Python 3"
    }
  },
  "cells": [
    {
      "cell_type": "markdown",
      "metadata": {
        "id": "view-in-github",
        "colab_type": "text"
      },
      "source": [
        "<a href=\"https://colab.research.google.com/github/thisischewy/data_science_projects/blob/master/MovieDomestic_Gross.ipynb\" target=\"_parent\"><img src=\"https://colab.research.google.com/assets/colab-badge.svg\" alt=\"Open In Colab\"/></a>"
      ]
    },
    {
      "cell_type": "code",
      "metadata": {
        "id": "ZFkwFbP81wUA",
        "colab_type": "code",
        "colab": {}
      },
      "source": [
        "import pandas as pd\n",
        "import matplotlib.pyplot as plt\n",
        "import seaborn as sns"
      ],
      "execution_count": 0,
      "outputs": []
    },
    {
      "cell_type": "code",
      "metadata": {
        "id": "MxZsHhTM16-H",
        "colab_type": "code",
        "colab": {}
      },
      "source": [
        "movies = pd.read_csv('sample_data/P4-Section6-Homework-Dataset.csv')"
      ],
      "execution_count": 0,
      "outputs": []
    },
    {
      "cell_type": "code",
      "metadata": {
        "id": "fee4RHjg2Z1h",
        "colab_type": "code",
        "colab": {
          "base_uri": "https://localhost:8080/",
          "height": 388
        },
        "outputId": "3d7b8001-c65b-43fc-fd25-26ea2f4bc7c1"
      },
      "source": [
        "movies.head()"
      ],
      "execution_count": 3,
      "outputs": [
        {
          "output_type": "execute_result",
          "data": {
            "text/html": [
              "<div>\n",
              "<style scoped>\n",
              "    .dataframe tbody tr th:only-of-type {\n",
              "        vertical-align: middle;\n",
              "    }\n",
              "\n",
              "    .dataframe tbody tr th {\n",
              "        vertical-align: top;\n",
              "    }\n",
              "\n",
              "    .dataframe thead th {\n",
              "        text-align: right;\n",
              "    }\n",
              "</style>\n",
              "<table border=\"1\" class=\"dataframe\">\n",
              "  <thead>\n",
              "    <tr style=\"text-align: right;\">\n",
              "      <th></th>\n",
              "      <th>Day of Week</th>\n",
              "      <th>Director</th>\n",
              "      <th>Genre</th>\n",
              "      <th>Movie Title</th>\n",
              "      <th>Release Date</th>\n",
              "      <th>Studio</th>\n",
              "      <th>Adjusted Gross ($mill)</th>\n",
              "      <th>Budget ($mill)</th>\n",
              "      <th>Gross ($mill)</th>\n",
              "      <th>IMDb Rating</th>\n",
              "      <th>MovieLens Rating</th>\n",
              "      <th>Overseas ($mill)</th>\n",
              "      <th>Overseas%</th>\n",
              "      <th>Profit ($mill)</th>\n",
              "      <th>Profit%</th>\n",
              "      <th>Runtime (min)</th>\n",
              "      <th>US ($mill)</th>\n",
              "      <th>Gross % US</th>\n",
              "    </tr>\n",
              "  </thead>\n",
              "  <tbody>\n",
              "    <tr>\n",
              "      <th>0</th>\n",
              "      <td>Friday</td>\n",
              "      <td>Brad Bird</td>\n",
              "      <td>action</td>\n",
              "      <td>Tomorrowland</td>\n",
              "      <td>22/05/2015</td>\n",
              "      <td>Buena Vista Studios</td>\n",
              "      <td>202.1</td>\n",
              "      <td>170.0</td>\n",
              "      <td>202.1</td>\n",
              "      <td>6.7</td>\n",
              "      <td>3.26</td>\n",
              "      <td>111.9</td>\n",
              "      <td>55.4</td>\n",
              "      <td>32.1</td>\n",
              "      <td>18.9</td>\n",
              "      <td>130</td>\n",
              "      <td>90.2</td>\n",
              "      <td>44.6</td>\n",
              "    </tr>\n",
              "    <tr>\n",
              "      <th>1</th>\n",
              "      <td>Friday</td>\n",
              "      <td>Scott Waugh</td>\n",
              "      <td>action</td>\n",
              "      <td>Need for Speed</td>\n",
              "      <td>14/03/2014</td>\n",
              "      <td>Buena Vista Studios</td>\n",
              "      <td>204.2</td>\n",
              "      <td>66.0</td>\n",
              "      <td>203.3</td>\n",
              "      <td>6.6</td>\n",
              "      <td>2.97</td>\n",
              "      <td>159.7</td>\n",
              "      <td>78.6</td>\n",
              "      <td>137.3</td>\n",
              "      <td>208.0</td>\n",
              "      <td>132</td>\n",
              "      <td>43.6</td>\n",
              "      <td>21.4</td>\n",
              "    </tr>\n",
              "    <tr>\n",
              "      <th>2</th>\n",
              "      <td>Friday</td>\n",
              "      <td>Patrick Hughes</td>\n",
              "      <td>action</td>\n",
              "      <td>The Expendables 3</td>\n",
              "      <td>15/08/2014</td>\n",
              "      <td>Lionsgate</td>\n",
              "      <td>207.1</td>\n",
              "      <td>100.0</td>\n",
              "      <td>206.2</td>\n",
              "      <td>6.1</td>\n",
              "      <td>2.93</td>\n",
              "      <td>166.9</td>\n",
              "      <td>80.9</td>\n",
              "      <td>106.2</td>\n",
              "      <td>106.2</td>\n",
              "      <td>126</td>\n",
              "      <td>39.3</td>\n",
              "      <td>19.1</td>\n",
              "    </tr>\n",
              "    <tr>\n",
              "      <th>3</th>\n",
              "      <td>Friday</td>\n",
              "      <td>Phil Lord, Chris Miller</td>\n",
              "      <td>comedy</td>\n",
              "      <td>21 Jump Street</td>\n",
              "      <td>16/03/2012</td>\n",
              "      <td>Sony</td>\n",
              "      <td>208.8</td>\n",
              "      <td>42.0</td>\n",
              "      <td>201.6</td>\n",
              "      <td>7.2</td>\n",
              "      <td>3.62</td>\n",
              "      <td>63.1</td>\n",
              "      <td>31.3</td>\n",
              "      <td>159.6</td>\n",
              "      <td>380.0</td>\n",
              "      <td>109</td>\n",
              "      <td>138.4</td>\n",
              "      <td>68.7</td>\n",
              "    </tr>\n",
              "    <tr>\n",
              "      <th>4</th>\n",
              "      <td>Friday</td>\n",
              "      <td>Roland Emmerich</td>\n",
              "      <td>action</td>\n",
              "      <td>White House Down</td>\n",
              "      <td>28/06/2013</td>\n",
              "      <td>Sony</td>\n",
              "      <td>209.7</td>\n",
              "      <td>150.0</td>\n",
              "      <td>205.4</td>\n",
              "      <td>8.0</td>\n",
              "      <td>3.65</td>\n",
              "      <td>132.3</td>\n",
              "      <td>64.4</td>\n",
              "      <td>55.4</td>\n",
              "      <td>36.9</td>\n",
              "      <td>131</td>\n",
              "      <td>73.1</td>\n",
              "      <td>35.6</td>\n",
              "    </tr>\n",
              "  </tbody>\n",
              "</table>\n",
              "</div>"
            ],
            "text/plain": [
              "  Day of Week                 Director  ... US ($mill) Gross % US\n",
              "0      Friday                Brad Bird  ...       90.2       44.6\n",
              "1      Friday              Scott Waugh  ...       43.6       21.4\n",
              "2      Friday           Patrick Hughes  ...       39.3       19.1\n",
              "3      Friday  Phil Lord, Chris Miller  ...      138.4       68.7\n",
              "4      Friday          Roland Emmerich  ...       73.1       35.6\n",
              "\n",
              "[5 rows x 18 columns]"
            ]
          },
          "metadata": {
            "tags": []
          },
          "execution_count": 3
        }
      ]
    },
    {
      "cell_type": "code",
      "metadata": {
        "id": "JR0AA_tr2bOM",
        "colab_type": "code",
        "colab": {
          "base_uri": "https://localhost:8080/",
          "height": 288
        },
        "outputId": "b22ea118-afdf-4aef-ed81-5c2a8a91a146"
      },
      "source": [
        "movies.describe()"
      ],
      "execution_count": 4,
      "outputs": [
        {
          "output_type": "execute_result",
          "data": {
            "text/html": [
              "<div>\n",
              "<style scoped>\n",
              "    .dataframe tbody tr th:only-of-type {\n",
              "        vertical-align: middle;\n",
              "    }\n",
              "\n",
              "    .dataframe tbody tr th {\n",
              "        vertical-align: top;\n",
              "    }\n",
              "\n",
              "    .dataframe thead th {\n",
              "        text-align: right;\n",
              "    }\n",
              "</style>\n",
              "<table border=\"1\" class=\"dataframe\">\n",
              "  <thead>\n",
              "    <tr style=\"text-align: right;\">\n",
              "      <th></th>\n",
              "      <th>Budget ($mill)</th>\n",
              "      <th>IMDb Rating</th>\n",
              "      <th>MovieLens Rating</th>\n",
              "      <th>Overseas%</th>\n",
              "      <th>Profit%</th>\n",
              "      <th>Runtime (min)</th>\n",
              "      <th>US ($mill)</th>\n",
              "      <th>Gross % US</th>\n",
              "    </tr>\n",
              "  </thead>\n",
              "  <tbody>\n",
              "    <tr>\n",
              "      <th>count</th>\n",
              "      <td>608.000000</td>\n",
              "      <td>608.000000</td>\n",
              "      <td>608.000000</td>\n",
              "      <td>608.000000</td>\n",
              "      <td>608.000000</td>\n",
              "      <td>608.000000</td>\n",
              "      <td>608.000000</td>\n",
              "      <td>608.000000</td>\n",
              "    </tr>\n",
              "    <tr>\n",
              "      <th>mean</th>\n",
              "      <td>92.467928</td>\n",
              "      <td>6.923849</td>\n",
              "      <td>3.340378</td>\n",
              "      <td>57.698849</td>\n",
              "      <td>719.278783</td>\n",
              "      <td>117.781250</td>\n",
              "      <td>167.135197</td>\n",
              "      <td>42.301151</td>\n",
              "    </tr>\n",
              "    <tr>\n",
              "      <th>std</th>\n",
              "      <td>59.421407</td>\n",
              "      <td>0.925890</td>\n",
              "      <td>0.454071</td>\n",
              "      <td>12.334237</td>\n",
              "      <td>1942.807248</td>\n",
              "      <td>23.179122</td>\n",
              "      <td>92.465903</td>\n",
              "      <td>12.334237</td>\n",
              "    </tr>\n",
              "    <tr>\n",
              "      <th>min</th>\n",
              "      <td>0.600000</td>\n",
              "      <td>3.600000</td>\n",
              "      <td>1.490000</td>\n",
              "      <td>17.200000</td>\n",
              "      <td>7.700000</td>\n",
              "      <td>30.000000</td>\n",
              "      <td>0.000000</td>\n",
              "      <td>0.000000</td>\n",
              "    </tr>\n",
              "    <tr>\n",
              "      <th>25%</th>\n",
              "      <td>45.000000</td>\n",
              "      <td>6.375000</td>\n",
              "      <td>3.037500</td>\n",
              "      <td>49.900000</td>\n",
              "      <td>201.850000</td>\n",
              "      <td>100.000000</td>\n",
              "      <td>106.950000</td>\n",
              "      <td>33.700000</td>\n",
              "    </tr>\n",
              "    <tr>\n",
              "      <th>50%</th>\n",
              "      <td>80.000000</td>\n",
              "      <td>6.900000</td>\n",
              "      <td>3.365000</td>\n",
              "      <td>58.200000</td>\n",
              "      <td>338.550000</td>\n",
              "      <td>116.000000</td>\n",
              "      <td>141.700000</td>\n",
              "      <td>41.800000</td>\n",
              "    </tr>\n",
              "    <tr>\n",
              "      <th>75%</th>\n",
              "      <td>130.000000</td>\n",
              "      <td>7.600000</td>\n",
              "      <td>3.672500</td>\n",
              "      <td>66.300000</td>\n",
              "      <td>650.100000</td>\n",
              "      <td>130.250000</td>\n",
              "      <td>202.100000</td>\n",
              "      <td>50.100000</td>\n",
              "    </tr>\n",
              "    <tr>\n",
              "      <th>max</th>\n",
              "      <td>300.000000</td>\n",
              "      <td>9.200000</td>\n",
              "      <td>4.500000</td>\n",
              "      <td>100.000000</td>\n",
              "      <td>41333.300000</td>\n",
              "      <td>238.000000</td>\n",
              "      <td>760.500000</td>\n",
              "      <td>82.800000</td>\n",
              "    </tr>\n",
              "  </tbody>\n",
              "</table>\n",
              "</div>"
            ],
            "text/plain": [
              "       Budget ($mill)  IMDb Rating  ...  US ($mill)  Gross % US\n",
              "count      608.000000   608.000000  ...  608.000000  608.000000\n",
              "mean        92.467928     6.923849  ...  167.135197   42.301151\n",
              "std         59.421407     0.925890  ...   92.465903   12.334237\n",
              "min          0.600000     3.600000  ...    0.000000    0.000000\n",
              "25%         45.000000     6.375000  ...  106.950000   33.700000\n",
              "50%         80.000000     6.900000  ...  141.700000   41.800000\n",
              "75%        130.000000     7.600000  ...  202.100000   50.100000\n",
              "max        300.000000     9.200000  ...  760.500000   82.800000\n",
              "\n",
              "[8 rows x 8 columns]"
            ]
          },
          "metadata": {
            "tags": []
          },
          "execution_count": 4
        }
      ]
    },
    {
      "cell_type": "code",
      "metadata": {
        "id": "Dtoadega2p6Z",
        "colab_type": "code",
        "colab": {
          "base_uri": "https://localhost:8080/",
          "height": 415
        },
        "outputId": "191e2001-0b3e-48c8-e45b-e4153f136fb9"
      },
      "source": [
        "movies.info()"
      ],
      "execution_count": 5,
      "outputs": [
        {
          "output_type": "stream",
          "text": [
            "<class 'pandas.core.frame.DataFrame'>\n",
            "RangeIndex: 608 entries, 0 to 607\n",
            "Data columns (total 18 columns):\n",
            "Day of Week               608 non-null object\n",
            "Director                  608 non-null object\n",
            "Genre                     608 non-null object\n",
            "Movie Title               608 non-null object\n",
            "Release Date              608 non-null object\n",
            "Studio                    608 non-null object\n",
            "Adjusted Gross ($mill)    608 non-null object\n",
            "Budget ($mill)            608 non-null float64\n",
            "Gross ($mill)             608 non-null object\n",
            "IMDb Rating               608 non-null float64\n",
            "MovieLens Rating          608 non-null float64\n",
            "Overseas ($mill)          608 non-null object\n",
            "Overseas%                 608 non-null float64\n",
            "Profit ($mill)            608 non-null object\n",
            "Profit%                   608 non-null float64\n",
            "Runtime (min)             608 non-null int64\n",
            "US ($mill)                608 non-null float64\n",
            "Gross % US                608 non-null float64\n",
            "dtypes: float64(7), int64(1), object(10)\n",
            "memory usage: 85.6+ KB\n"
          ],
          "name": "stdout"
        }
      ]
    },
    {
      "cell_type": "code",
      "metadata": {
        "id": "i1-__0wF2sMR",
        "colab_type": "code",
        "colab": {
          "base_uri": "https://localhost:8080/",
          "height": 513
        },
        "outputId": "d0700d0b-8506-432d-843c-4267633f03b4"
      },
      "source": [
        "vis1 = sns.catplot(data=movies, x='Day of Week', kind='count', height=7)"
      ],
      "execution_count": 9,
      "outputs": [
        {
          "output_type": "display_data",
          "data": {
            "image/png": "[encoded data removed]",
            "text/plain": [
              "<Figure size 504x504 with 1 Axes>"
            ]
          },
          "metadata": {
            "tags": []
          }
        }
      ]
    },
    {
      "cell_type": "code",
      "metadata": {
        "id": "xVEt5U_i24Lj",
        "colab_type": "code",
        "colab": {
          "base_uri": "https://localhost:8080/",
          "height": 207
        },
        "outputId": "41f447b3-ff0e-4ff5-c697-692b2dfe9ece"
      },
      "source": [
        "movies.Studio.unique()"
      ],
      "execution_count": 10,
      "outputs": [
        {
          "output_type": "execute_result",
          "data": {
            "text/plain": [
              "array(['Buena Vista Studios', 'Lionsgate', 'Sony', 'Universal',\n",
              "       'Paramount Pictures', 'WB', 'Weinstein Company',\n",
              "       'UA Entertainment', 'WB/New Line', 'New Line Cinema', 'Fox',\n",
              "       'TriStar', 'Relativity Media', 'Screen Gems', 'StudioCanal',\n",
              "       'Fox Searchlight Pictures', 'MiraMax', 'Path_ Distribution',\n",
              "       'DreamWorks', 'Lionsgate Films', 'Revolution Studios',\n",
              "       'Dimension Films', 'USA', 'Lionsgate/Summit',\n",
              "       'Sony Picture Classics', 'Pacific Data/DreamWorks', 'Disney',\n",
              "       'Art House Studios', 'Colombia Pictures', 'Gramercy Pictures',\n",
              "       'Summit Entertainment', 'Vestron Pictures', 'MGM', 'Orion', 'IFC',\n",
              "       'New Market Films'], dtype=object)"
            ]
          },
          "metadata": {
            "tags": []
          },
          "execution_count": 10
        }
      ]
    },
    {
      "cell_type": "code",
      "metadata": {
        "id": "LWQVvsPo3MP4",
        "colab_type": "code",
        "colab": {
          "base_uri": "https://localhost:8080/",
          "height": 35
        },
        "outputId": "68524a2c-4844-4c8b-ab7c-c770c3d3a2a4"
      },
      "source": [
        "len(movies.Studio.unique())"
      ],
      "execution_count": 11,
      "outputs": [
        {
          "output_type": "execute_result",
          "data": {
            "text/plain": [
              "36"
            ]
          },
          "metadata": {
            "tags": []
          },
          "execution_count": 11
        }
      ]
    },
    {
      "cell_type": "code",
      "metadata": {
        "id": "POZGogwy3PtZ",
        "colab_type": "code",
        "colab": {
          "base_uri": "https://localhost:8080/",
          "height": 69
        },
        "outputId": "1294a2f0-dceb-45df-83ba-3ba418a914ec"
      },
      "source": [
        "movies.Genre.unique()"
      ],
      "execution_count": 12,
      "outputs": [
        {
          "output_type": "execute_result",
          "data": {
            "text/plain": [
              "array(['action', 'comedy', 'adventure', 'horror', 'animation',\n",
              "       'biography', 'drama', 'musical', 'sci-fi', 'crime', 'romance',\n",
              "       'fantasy', 'mystery', 'thriller', 'documentary'], dtype=object)"
            ]
          },
          "metadata": {
            "tags": []
          },
          "execution_count": 12
        }
      ]
    },
    {
      "cell_type": "code",
      "metadata": {
        "id": "9MjtuUTz3Roy",
        "colab_type": "code",
        "colab": {
          "base_uri": "https://localhost:8080/",
          "height": 35
        },
        "outputId": "0b13fab0-f03b-4079-c35e-47f3f741f81e"
      },
      "source": [
        "len(movies.Genre.unique())"
      ],
      "execution_count": 13,
      "outputs": [
        {
          "output_type": "execute_result",
          "data": {
            "text/plain": [
              "15"
            ]
          },
          "metadata": {
            "tags": []
          },
          "execution_count": 13
        }
      ]
    },
    {
      "cell_type": "code",
      "metadata": {
        "id": "I-sniaEp3SAl",
        "colab_type": "code",
        "colab": {}
      },
      "source": [
        "# movies2 = movies[(movies.Studio=='Fox') | (movies.Studio=='WB')]\n",
        "genre_filters = ['action', 'adventure', 'animation', 'comedy', 'drama']\n",
        "movies2 = movies[movies.Genre.isin(genre_filters)]"
      ],
      "execution_count": 0,
      "outputs": []
    },
    {
      "cell_type": "code",
      "metadata": {
        "id": "xPSzG8__3SKI",
        "colab_type": "code",
        "colab": {
          "base_uri": "https://localhost:8080/",
          "height": 52
        },
        "outputId": "3b287987-216f-4b20-b975-7589742e5d7d"
      },
      "source": [
        "movies2.Genre.unique()"
      ],
      "execution_count": 54,
      "outputs": [
        {
          "output_type": "execute_result",
          "data": {
            "text/plain": [
              "array(['action', 'comedy', 'adventure', 'animation', 'drama'],\n",
              "      dtype=object)"
            ]
          },
          "metadata": {
            "tags": []
          },
          "execution_count": 54
        }
      ]
    },
    {
      "cell_type": "code",
      "metadata": {
        "id": "sGHKNr4z4vfG",
        "colab_type": "code",
        "colab": {}
      },
      "source": [
        "studio_filters = ['Buena Vista Studios', 'Fox', 'Paramount Pictures', 'Sony', 'Universal', 'WB']\n",
        "movies3 = movies2[movies2.Studio.isin(studio_filters)]"
      ],
      "execution_count": 0,
      "outputs": []
    },
    {
      "cell_type": "code",
      "metadata": {
        "id": "OnTcTmX64wrv",
        "colab_type": "code",
        "colab": {
          "base_uri": "https://localhost:8080/",
          "height": 52
        },
        "outputId": "88381046-5121-4ac5-edea-960a4e3358d0"
      },
      "source": [
        "movies3.Studio.unique()"
      ],
      "execution_count": 59,
      "outputs": [
        {
          "output_type": "execute_result",
          "data": {
            "text/plain": [
              "array(['Buena Vista Studios', 'Sony', 'Universal', 'WB',\n",
              "       'Paramount Pictures', 'Fox'], dtype=object)"
            ]
          },
          "metadata": {
            "tags": []
          },
          "execution_count": 59
        }
      ]
    },
    {
      "cell_type": "code",
      "metadata": {
        "id": "1efY07Ol3SYS",
        "colab_type": "code",
        "colab": {
          "base_uri": "https://localhost:8080/",
          "height": 555
        },
        "outputId": "61c26059-20ef-4bf6-9ce3-2067fa80c6cd"
      },
      "source": [
        "sns.set(style='darkgrid', palette='muted', color_codes=True)\n",
        "plt.rcParams['figure.figsize']=12,8\n",
        "\n",
        "ax = sns.boxplot(data=movies2, x='Genre', y='Gross % US', orient='v', color='lightgray')\n",
        "plt.setp(ax.artists, alpha=0.5)\n",
        "\n",
        "sns.stripplot(x='Genre', y='Gross % US', data=movies3, jitter=True, size=6, linewidth=0, hue='Studio', alpha=0.7)\n",
        "\n",
        "ax.axes.set_title('Domestic Gross % by Genre', fontsize=30)\n",
        "ax.set_xlabel('Genre', fontsize=20)\n",
        "ax.set_ylabel('Gross & US', fontsize=20)\n",
        "\n",
        "ax.legend(bbox_to_anchor=(1.05,1), loc=2)"
      ],
      "execution_count": 61,
      "outputs": [
        {
          "output_type": "execute_result",
          "data": {
            "text/plain": [
              "<matplotlib.legend.Legend at 0x7f6fb0d246a0>"
            ]
          },
          "metadata": {
            "tags": []
          },
          "execution_count": 61
        },
        {
          "output_type": "display_data",
          "data": {
            "image/png": "[encoded data removed]",
            "text/plain": [
              "<Figure size 864x576 with 1 Axes>"
            ]
          },
          "metadata": {
            "tags": []
          }
        }
      ]
    },
    {
      "cell_type": "code",
      "metadata": {
        "id": "nuSw_gRb4-fY",
        "colab_type": "code",
        "colab": {}
      },
      "source": [
        ""
      ],
      "execution_count": 0,
      "outputs": []
    },
    {
      "cell_type": "code",
      "metadata": {
        "id": "6hbbu3S84-kw",
        "colab_type": "code",
        "colab": {}
      },
      "source": [
        ""
      ],
      "execution_count": 0,
      "outputs": []
    },
    {
      "cell_type": "code",
      "metadata": {
        "id": "ru4B2BC34-ph",
        "colab_type": "code",
        "colab": {}
      },
      "source": [
        ""
      ],
      "execution_count": 0,
      "outputs": []
    },
    {
      "cell_type": "code",
      "metadata": {
        "id": "7oaEk0T-4-t9",
        "colab_type": "code",
        "colab": {}
      },
      "source": [
        ""
      ],
      "execution_count": 0,
      "outputs": []
    },
    {
      "cell_type": "code",
      "metadata": {
        "id": "t9S4yRjX4-x0",
        "colab_type": "code",
        "colab": {}
      },
      "source": [
        ""
      ],
      "execution_count": 0,
      "outputs": []
    },
    {
      "cell_type": "code",
      "metadata": {
        "id": "l1OlFFcU3SdX",
        "colab_type": "code",
        "colab": {}
      },
      "source": [
        ""
      ],
      "execution_count": 0,
      "outputs": []
    }
  ]
}