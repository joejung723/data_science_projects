{
  "nbformat": 4,
  "nbformat_minor": 0,
  "metadata": {
    "colab": {
      "name": "DataFrames.ipynb",
      "provenance": [],
      "collapsed_sections": [],
      "authorship_tag": "ABX9TyP8hlWrqmBBTy4q1zFPsSTx",
      "include_colab_link": true
    },
    "kernelspec": {
      "name": "python3",
      "display_name": "Python 3"
    }
  },
  "cells": [
    {
      "cell_type": "markdown",
      "metadata": {
        "id": "view-in-github",
        "colab_type": "text"
      },
      "source": [
        "<a href=\"https://colab.research.google.com/github/thisischewy/data_science_projects/blob/master/DataFrames.ipynb\" target=\"_parent\"><img src=\"https://colab.research.google.com/assets/colab-badge.svg\" alt=\"Open In Colab\"/></a>"
      ]
    },
    {
      "cell_type": "code",
      "metadata": {
        "id": "O1ForsNAvpg6",
        "colab_type": "code",
        "colab": {}
      },
      "source": [
        "import pandas as pd"
      ],
      "execution_count": 0,
      "outputs": []
    },
    {
      "cell_type": "code",
      "metadata": {
        "id": "JsMEQHZsCvKN",
        "colab_type": "code",
        "colab": {}
      },
      "source": [
        "stats = pd.read_csv('sample_data/P4-Demographic-Data.csv')"
      ],
      "execution_count": 0,
      "outputs": []
    },
    {
      "cell_type": "code",
      "metadata": {
        "id": "fDoUNu38C6q0",
        "colab_type": "code",
        "outputId": "80ef0087-aa28-4163-bbb4-f90f31cff042",
        "colab": {
          "base_uri": "https://localhost:8080/",
          "height": 407
        }
      },
      "source": [
        "stats"
      ],
      "execution_count": 0,
      "outputs": [
        {
          "output_type": "execute_result",
          "data": {
            "text/html": [
              "<div>\n",
              "<style scoped>\n",
              "    .dataframe tbody tr th:only-of-type {\n",
              "        vertical-align: middle;\n",
              "    }\n",
              "\n",
              "    .dataframe tbody tr th {\n",
              "        vertical-align: top;\n",
              "    }\n",
              "\n",
              "    .dataframe thead th {\n",
              "        text-align: right;\n",
              "    }\n",
              "</style>\n",
              "<table border=\"1\" class=\"dataframe\">\n",
              "  <thead>\n",
              "    <tr style=\"text-align: right;\">\n",
              "      <th></th>\n",
              "      <th>Country Name</th>\n",
              "      <th>Country Code</th>\n",
              "      <th>Birth rate</th>\n",
              "      <th>Internet users</th>\n",
              "      <th>Income Group</th>\n",
              "    </tr>\n",
              "  </thead>\n",
              "  <tbody>\n",
              "    <tr>\n",
              "      <th>0</th>\n",
              "      <td>Aruba</td>\n",
              "      <td>ABW</td>\n",
              "      <td>10.244</td>\n",
              "      <td>78.9</td>\n",
              "      <td>High income</td>\n",
              "    </tr>\n",
              "    <tr>\n",
              "      <th>1</th>\n",
              "      <td>Afghanistan</td>\n",
              "      <td>AFG</td>\n",
              "      <td>35.253</td>\n",
              "      <td>5.9</td>\n",
              "      <td>Low income</td>\n",
              "    </tr>\n",
              "    <tr>\n",
              "      <th>2</th>\n",
              "      <td>Angola</td>\n",
              "      <td>AGO</td>\n",
              "      <td>45.985</td>\n",
              "      <td>19.1</td>\n",
              "      <td>Upper middle income</td>\n",
              "    </tr>\n",
              "    <tr>\n",
              "      <th>3</th>\n",
              "      <td>Albania</td>\n",
              "      <td>ALB</td>\n",
              "      <td>12.877</td>\n",
              "      <td>57.2</td>\n",
              "      <td>Upper middle income</td>\n",
              "    </tr>\n",
              "    <tr>\n",
              "      <th>4</th>\n",
              "      <td>United Arab Emirates</td>\n",
              "      <td>ARE</td>\n",
              "      <td>11.044</td>\n",
              "      <td>88.0</td>\n",
              "      <td>High income</td>\n",
              "    </tr>\n",
              "    <tr>\n",
              "      <th>...</th>\n",
              "      <td>...</td>\n",
              "      <td>...</td>\n",
              "      <td>...</td>\n",
              "      <td>...</td>\n",
              "      <td>...</td>\n",
              "    </tr>\n",
              "    <tr>\n",
              "      <th>190</th>\n",
              "      <td>Yemen, Rep.</td>\n",
              "      <td>YEM</td>\n",
              "      <td>32.947</td>\n",
              "      <td>20.0</td>\n",
              "      <td>Lower middle income</td>\n",
              "    </tr>\n",
              "    <tr>\n",
              "      <th>191</th>\n",
              "      <td>South Africa</td>\n",
              "      <td>ZAF</td>\n",
              "      <td>20.850</td>\n",
              "      <td>46.5</td>\n",
              "      <td>Upper middle income</td>\n",
              "    </tr>\n",
              "    <tr>\n",
              "      <th>192</th>\n",
              "      <td>Congo, Dem. Rep.</td>\n",
              "      <td>COD</td>\n",
              "      <td>42.394</td>\n",
              "      <td>2.2</td>\n",
              "      <td>Low income</td>\n",
              "    </tr>\n",
              "    <tr>\n",
              "      <th>193</th>\n",
              "      <td>Zambia</td>\n",
              "      <td>ZMB</td>\n",
              "      <td>40.471</td>\n",
              "      <td>15.4</td>\n",
              "      <td>Lower middle income</td>\n",
              "    </tr>\n",
              "    <tr>\n",
              "      <th>194</th>\n",
              "      <td>Zimbabwe</td>\n",
              "      <td>ZWE</td>\n",
              "      <td>35.715</td>\n",
              "      <td>18.5</td>\n",
              "      <td>Low income</td>\n",
              "    </tr>\n",
              "  </tbody>\n",
              "</table>\n",
              "<p>195 rows × 5 columns</p>\n",
              "</div>"
            ],
            "text/plain": [
              "             Country Name Country Code  ...  Internet users         Income Group\n",
              "0                   Aruba          ABW  ...            78.9          High income\n",
              "1             Afghanistan          AFG  ...             5.9           Low income\n",
              "2                  Angola          AGO  ...            19.1  Upper middle income\n",
              "3                 Albania          ALB  ...            57.2  Upper middle income\n",
              "4    United Arab Emirates          ARE  ...            88.0          High income\n",
              "..                    ...          ...  ...             ...                  ...\n",
              "190           Yemen, Rep.          YEM  ...            20.0  Lower middle income\n",
              "191          South Africa          ZAF  ...            46.5  Upper middle income\n",
              "192      Congo, Dem. Rep.          COD  ...             2.2           Low income\n",
              "193                Zambia          ZMB  ...            15.4  Lower middle income\n",
              "194              Zimbabwe          ZWE  ...            18.5           Low income\n",
              "\n",
              "[195 rows x 5 columns]"
            ]
          },
          "metadata": {
            "tags": []
          },
          "execution_count": 59
        }
      ]
    },
    {
      "cell_type": "code",
      "metadata": {
        "id": "SLVD_yRTDbtB",
        "colab_type": "code",
        "colab": {}
      },
      "source": [
        "# Exploring data"
      ],
      "execution_count": 0,
      "outputs": []
    },
    {
      "cell_type": "code",
      "metadata": {
        "id": "QwlrsGu_DuDm",
        "colab_type": "code",
        "outputId": "7233e33a-84fe-42c9-e285-6eaef8ba6afd",
        "colab": {
          "base_uri": "https://localhost:8080/",
          "height": 407
        }
      },
      "source": [
        "# Full DataFrame\n",
        "stats"
      ],
      "execution_count": 0,
      "outputs": [
        {
          "output_type": "execute_result",
          "data": {
            "text/html": [
              "<div>\n",
              "<style scoped>\n",
              "    .dataframe tbody tr th:only-of-type {\n",
              "        vertical-align: middle;\n",
              "    }\n",
              "\n",
              "    .dataframe tbody tr th {\n",
              "        vertical-align: top;\n",
              "    }\n",
              "\n",
              "    .dataframe thead th {\n",
              "        text-align: right;\n",
              "    }\n",
              "</style>\n",
              "<table border=\"1\" class=\"dataframe\">\n",
              "  <thead>\n",
              "    <tr style=\"text-align: right;\">\n",
              "      <th></th>\n",
              "      <th>Country Name</th>\n",
              "      <th>Country Code</th>\n",
              "      <th>Birth rate</th>\n",
              "      <th>Internet users</th>\n",
              "      <th>Income Group</th>\n",
              "    </tr>\n",
              "  </thead>\n",
              "  <tbody>\n",
              "    <tr>\n",
              "      <th>0</th>\n",
              "      <td>Aruba</td>\n",
              "      <td>ABW</td>\n",
              "      <td>10.244</td>\n",
              "      <td>78.9</td>\n",
              "      <td>High income</td>\n",
              "    </tr>\n",
              "    <tr>\n",
              "      <th>1</th>\n",
              "      <td>Afghanistan</td>\n",
              "      <td>AFG</td>\n",
              "      <td>35.253</td>\n",
              "      <td>5.9</td>\n",
              "      <td>Low income</td>\n",
              "    </tr>\n",
              "    <tr>\n",
              "      <th>2</th>\n",
              "      <td>Angola</td>\n",
              "      <td>AGO</td>\n",
              "      <td>45.985</td>\n",
              "      <td>19.1</td>\n",
              "      <td>Upper middle income</td>\n",
              "    </tr>\n",
              "    <tr>\n",
              "      <th>3</th>\n",
              "      <td>Albania</td>\n",
              "      <td>ALB</td>\n",
              "      <td>12.877</td>\n",
              "      <td>57.2</td>\n",
              "      <td>Upper middle income</td>\n",
              "    </tr>\n",
              "    <tr>\n",
              "      <th>4</th>\n",
              "      <td>United Arab Emirates</td>\n",
              "      <td>ARE</td>\n",
              "      <td>11.044</td>\n",
              "      <td>88.0</td>\n",
              "      <td>High income</td>\n",
              "    </tr>\n",
              "    <tr>\n",
              "      <th>...</th>\n",
              "      <td>...</td>\n",
              "      <td>...</td>\n",
              "      <td>...</td>\n",
              "      <td>...</td>\n",
              "      <td>...</td>\n",
              "    </tr>\n",
              "    <tr>\n",
              "      <th>190</th>\n",
              "      <td>Yemen, Rep.</td>\n",
              "      <td>YEM</td>\n",
              "      <td>32.947</td>\n",
              "      <td>20.0</td>\n",
              "      <td>Lower middle income</td>\n",
              "    </tr>\n",
              "    <tr>\n",
              "      <th>191</th>\n",
              "      <td>South Africa</td>\n",
              "      <td>ZAF</td>\n",
              "      <td>20.850</td>\n",
              "      <td>46.5</td>\n",
              "      <td>Upper middle income</td>\n",
              "    </tr>\n",
              "    <tr>\n",
              "      <th>192</th>\n",
              "      <td>Congo, Dem. Rep.</td>\n",
              "      <td>COD</td>\n",
              "      <td>42.394</td>\n",
              "      <td>2.2</td>\n",
              "      <td>Low income</td>\n",
              "    </tr>\n",
              "    <tr>\n",
              "      <th>193</th>\n",
              "      <td>Zambia</td>\n",
              "      <td>ZMB</td>\n",
              "      <td>40.471</td>\n",
              "      <td>15.4</td>\n",
              "      <td>Lower middle income</td>\n",
              "    </tr>\n",
              "    <tr>\n",
              "      <th>194</th>\n",
              "      <td>Zimbabwe</td>\n",
              "      <td>ZWE</td>\n",
              "      <td>35.715</td>\n",
              "      <td>18.5</td>\n",
              "      <td>Low income</td>\n",
              "    </tr>\n",
              "  </tbody>\n",
              "</table>\n",
              "<p>195 rows × 5 columns</p>\n",
              "</div>"
            ],
            "text/plain": [
              "             Country Name Country Code  ...  Internet users         Income Group\n",
              "0                   Aruba          ABW  ...            78.9          High income\n",
              "1             Afghanistan          AFG  ...             5.9           Low income\n",
              "2                  Angola          AGO  ...            19.1  Upper middle income\n",
              "3                 Albania          ALB  ...            57.2  Upper middle income\n",
              "4    United Arab Emirates          ARE  ...            88.0          High income\n",
              "..                    ...          ...  ...             ...                  ...\n",
              "190           Yemen, Rep.          YEM  ...            20.0  Lower middle income\n",
              "191          South Africa          ZAF  ...            46.5  Upper middle income\n",
              "192      Congo, Dem. Rep.          COD  ...             2.2           Low income\n",
              "193                Zambia          ZMB  ...            15.4  Lower middle income\n",
              "194              Zimbabwe          ZWE  ...            18.5           Low income\n",
              "\n",
              "[195 rows x 5 columns]"
            ]
          },
          "metadata": {
            "tags": []
          },
          "execution_count": 61
        }
      ]
    },
    {
      "cell_type": "code",
      "metadata": {
        "id": "P6x7XU3rDwzQ",
        "colab_type": "code",
        "outputId": "9a55c840-1523-4695-e23e-378640e6a3e5",
        "colab": {
          "base_uri": "https://localhost:8080/",
          "height": 35
        }
      },
      "source": [
        "# Number of rows\n",
        "len(stats)"
      ],
      "execution_count": 0,
      "outputs": [
        {
          "output_type": "execute_result",
          "data": {
            "text/plain": [
              "195"
            ]
          },
          "metadata": {
            "tags": []
          },
          "execution_count": 62
        }
      ]
    },
    {
      "cell_type": "code",
      "metadata": {
        "id": "W8C7dCMwD1UC",
        "colab_type": "code",
        "outputId": "a8b8b80d-19e3-4cf1-ced8-82476b060609",
        "colab": {
          "base_uri": "https://localhost:8080/",
          "height": 69
        }
      },
      "source": [
        "# Number of columns\n",
        "stats.columns"
      ],
      "execution_count": 0,
      "outputs": [
        {
          "output_type": "execute_result",
          "data": {
            "text/plain": [
              "Index(['Country Name', 'Country Code', 'Birth rate', 'Internet users',\n",
              "       'Income Group'],\n",
              "      dtype='object')"
            ]
          },
          "metadata": {
            "tags": []
          },
          "execution_count": 63
        }
      ]
    },
    {
      "cell_type": "code",
      "metadata": {
        "id": "5KjMWCIoD7qL",
        "colab_type": "code",
        "colab": {}
      },
      "source": [
        "list_col = list(stats.columns)"
      ],
      "execution_count": 0,
      "outputs": []
    },
    {
      "cell_type": "code",
      "metadata": {
        "id": "uZcaVKjUEBGS",
        "colab_type": "code",
        "outputId": "dd39e395-94c8-4738-8705-863356e91c80",
        "colab": {
          "base_uri": "https://localhost:8080/",
          "height": 104
        }
      },
      "source": [
        "list_col"
      ],
      "execution_count": 0,
      "outputs": [
        {
          "output_type": "execute_result",
          "data": {
            "text/plain": [
              "['Country Name',\n",
              " 'Country Code',\n",
              " 'Birth rate',\n",
              " 'Internet users',\n",
              " 'Income Group']"
            ]
          },
          "metadata": {
            "tags": []
          },
          "execution_count": 65
        }
      ]
    },
    {
      "cell_type": "code",
      "metadata": {
        "id": "XLG9QldXECZy",
        "colab_type": "code",
        "outputId": "d7b2d751-d224-4a7c-bf8d-85805da1a470",
        "colab": {
          "base_uri": "https://localhost:8080/",
          "height": 190
        }
      },
      "source": [
        "# Information on the columns\n",
        "stats.info()"
      ],
      "execution_count": 0,
      "outputs": [
        {
          "output_type": "stream",
          "text": [
            "<class 'pandas.core.frame.DataFrame'>\n",
            "RangeIndex: 195 entries, 0 to 194\n",
            "Data columns (total 5 columns):\n",
            "Country Name      195 non-null object\n",
            "Country Code      195 non-null object\n",
            "Birth rate        195 non-null float64\n",
            "Internet users    195 non-null float64\n",
            "Income Group      195 non-null object\n",
            "dtypes: float64(2), object(3)\n",
            "memory usage: 7.7+ KB\n"
          ],
          "name": "stdout"
        }
      ]
    },
    {
      "cell_type": "code",
      "metadata": {
        "id": "Cl-XCUxeE5xH",
        "colab_type": "code",
        "outputId": "90a9bc17-b2f0-4372-d001-3267c2f14b21",
        "colab": {
          "base_uri": "https://localhost:8080/",
          "height": 288
        }
      },
      "source": [
        "# Stats on the columns\n",
        "stats.describe()"
      ],
      "execution_count": 0,
      "outputs": [
        {
          "output_type": "execute_result",
          "data": {
            "text/html": [
              "<div>\n",
              "<style scoped>\n",
              "    .dataframe tbody tr th:only-of-type {\n",
              "        vertical-align: middle;\n",
              "    }\n",
              "\n",
              "    .dataframe tbody tr th {\n",
              "        vertical-align: top;\n",
              "    }\n",
              "\n",
              "    .dataframe thead th {\n",
              "        text-align: right;\n",
              "    }\n",
              "</style>\n",
              "<table border=\"1\" class=\"dataframe\">\n",
              "  <thead>\n",
              "    <tr style=\"text-align: right;\">\n",
              "      <th></th>\n",
              "      <th>Birth rate</th>\n",
              "      <th>Internet users</th>\n",
              "    </tr>\n",
              "  </thead>\n",
              "  <tbody>\n",
              "    <tr>\n",
              "      <th>count</th>\n",
              "      <td>195.000000</td>\n",
              "      <td>195.000000</td>\n",
              "    </tr>\n",
              "    <tr>\n",
              "      <th>mean</th>\n",
              "      <td>21.469928</td>\n",
              "      <td>42.076471</td>\n",
              "    </tr>\n",
              "    <tr>\n",
              "      <th>std</th>\n",
              "      <td>10.605467</td>\n",
              "      <td>29.030788</td>\n",
              "    </tr>\n",
              "    <tr>\n",
              "      <th>min</th>\n",
              "      <td>7.900000</td>\n",
              "      <td>0.900000</td>\n",
              "    </tr>\n",
              "    <tr>\n",
              "      <th>25%</th>\n",
              "      <td>12.120500</td>\n",
              "      <td>14.520000</td>\n",
              "    </tr>\n",
              "    <tr>\n",
              "      <th>50%</th>\n",
              "      <td>19.680000</td>\n",
              "      <td>41.000000</td>\n",
              "    </tr>\n",
              "    <tr>\n",
              "      <th>75%</th>\n",
              "      <td>29.759500</td>\n",
              "      <td>66.225000</td>\n",
              "    </tr>\n",
              "    <tr>\n",
              "      <th>max</th>\n",
              "      <td>49.661000</td>\n",
              "      <td>96.546800</td>\n",
              "    </tr>\n",
              "  </tbody>\n",
              "</table>\n",
              "</div>"
            ],
            "text/plain": [
              "       Birth rate  Internet users\n",
              "count  195.000000      195.000000\n",
              "mean    21.469928       42.076471\n",
              "std     10.605467       29.030788\n",
              "min      7.900000        0.900000\n",
              "25%     12.120500       14.520000\n",
              "50%     19.680000       41.000000\n",
              "75%     29.759500       66.225000\n",
              "max     49.661000       96.546800"
            ]
          },
          "metadata": {
            "tags": []
          },
          "execution_count": 67
        }
      ]
    },
    {
      "cell_type": "code",
      "metadata": {
        "id": "3Rvued54FDny",
        "colab_type": "code",
        "outputId": "54ff68aa-d5c3-49a4-e712-c8e76493065c",
        "colab": {
          "base_uri": "https://localhost:8080/",
          "height": 108
        }
      },
      "source": [
        "stats.describe().transpose()"
      ],
      "execution_count": 0,
      "outputs": [
        {
          "output_type": "execute_result",
          "data": {
            "text/html": [
              "<div>\n",
              "<style scoped>\n",
              "    .dataframe tbody tr th:only-of-type {\n",
              "        vertical-align: middle;\n",
              "    }\n",
              "\n",
              "    .dataframe tbody tr th {\n",
              "        vertical-align: top;\n",
              "    }\n",
              "\n",
              "    .dataframe thead th {\n",
              "        text-align: right;\n",
              "    }\n",
              "</style>\n",
              "<table border=\"1\" class=\"dataframe\">\n",
              "  <thead>\n",
              "    <tr style=\"text-align: right;\">\n",
              "      <th></th>\n",
              "      <th>count</th>\n",
              "      <th>mean</th>\n",
              "      <th>std</th>\n",
              "      <th>min</th>\n",
              "      <th>25%</th>\n",
              "      <th>50%</th>\n",
              "      <th>75%</th>\n",
              "      <th>max</th>\n",
              "    </tr>\n",
              "  </thead>\n",
              "  <tbody>\n",
              "    <tr>\n",
              "      <th>Birth rate</th>\n",
              "      <td>195.0</td>\n",
              "      <td>21.469928</td>\n",
              "      <td>10.605467</td>\n",
              "      <td>7.9</td>\n",
              "      <td>12.1205</td>\n",
              "      <td>19.68</td>\n",
              "      <td>29.7595</td>\n",
              "      <td>49.6610</td>\n",
              "    </tr>\n",
              "    <tr>\n",
              "      <th>Internet users</th>\n",
              "      <td>195.0</td>\n",
              "      <td>42.076471</td>\n",
              "      <td>29.030788</td>\n",
              "      <td>0.9</td>\n",
              "      <td>14.5200</td>\n",
              "      <td>41.00</td>\n",
              "      <td>66.2250</td>\n",
              "      <td>96.5468</td>\n",
              "    </tr>\n",
              "  </tbody>\n",
              "</table>\n",
              "</div>"
            ],
            "text/plain": [
              "                count       mean        std  ...    50%      75%      max\n",
              "Birth rate      195.0  21.469928  10.605467  ...  19.68  29.7595  49.6610\n",
              "Internet users  195.0  42.076471  29.030788  ...  41.00  66.2250  96.5468\n",
              "\n",
              "[2 rows x 8 columns]"
            ]
          },
          "metadata": {
            "tags": []
          },
          "execution_count": 68
        }
      ]
    },
    {
      "cell_type": "code",
      "metadata": {
        "id": "hOEVky9QFJKG",
        "colab_type": "code",
        "outputId": "ef7e1105-c7b7-45db-d9ce-8347efe18402",
        "colab": {
          "base_uri": "https://localhost:8080/",
          "height": 69
        }
      },
      "source": [
        "# Renaming columns of a DataFrame\n",
        "stats.columns = ['CountryName', 'CountryCode', 'BirthRate', 'InternetUsers', 'IncomeGroup']\n",
        "stats.columns"
      ],
      "execution_count": 0,
      "outputs": [
        {
          "output_type": "execute_result",
          "data": {
            "text/plain": [
              "Index(['CountryName', 'CountryCode', 'BirthRate', 'InternetUsers',\n",
              "       'IncomeGroup'],\n",
              "      dtype='object')"
            ]
          },
          "metadata": {
            "tags": []
          },
          "execution_count": 69
        }
      ]
    },
    {
      "cell_type": "code",
      "metadata": {
        "id": "raa-WcvlFS_p",
        "colab_type": "code",
        "outputId": "7c7c9dd8-67da-41f7-a22d-70a456872d5f",
        "colab": {
          "base_uri": "https://localhost:8080/",
          "height": 407
        }
      },
      "source": [
        "# reverse Dataframe\n",
        "stats[::-1]"
      ],
      "execution_count": 0,
      "outputs": [
        {
          "output_type": "execute_result",
          "data": {
            "text/html": [
              "<div>\n",
              "<style scoped>\n",
              "    .dataframe tbody tr th:only-of-type {\n",
              "        vertical-align: middle;\n",
              "    }\n",
              "\n",
              "    .dataframe tbody tr th {\n",
              "        vertical-align: top;\n",
              "    }\n",
              "\n",
              "    .dataframe thead th {\n",
              "        text-align: right;\n",
              "    }\n",
              "</style>\n",
              "<table border=\"1\" class=\"dataframe\">\n",
              "  <thead>\n",
              "    <tr style=\"text-align: right;\">\n",
              "      <th></th>\n",
              "      <th>CountryName</th>\n",
              "      <th>CountryCode</th>\n",
              "      <th>BirthRate</th>\n",
              "      <th>InternetUsers</th>\n",
              "      <th>IncomeGroup</th>\n",
              "    </tr>\n",
              "  </thead>\n",
              "  <tbody>\n",
              "    <tr>\n",
              "      <th>194</th>\n",
              "      <td>Zimbabwe</td>\n",
              "      <td>ZWE</td>\n",
              "      <td>35.715</td>\n",
              "      <td>18.5</td>\n",
              "      <td>Low income</td>\n",
              "    </tr>\n",
              "    <tr>\n",
              "      <th>193</th>\n",
              "      <td>Zambia</td>\n",
              "      <td>ZMB</td>\n",
              "      <td>40.471</td>\n",
              "      <td>15.4</td>\n",
              "      <td>Lower middle income</td>\n",
              "    </tr>\n",
              "    <tr>\n",
              "      <th>192</th>\n",
              "      <td>Congo, Dem. Rep.</td>\n",
              "      <td>COD</td>\n",
              "      <td>42.394</td>\n",
              "      <td>2.2</td>\n",
              "      <td>Low income</td>\n",
              "    </tr>\n",
              "    <tr>\n",
              "      <th>191</th>\n",
              "      <td>South Africa</td>\n",
              "      <td>ZAF</td>\n",
              "      <td>20.850</td>\n",
              "      <td>46.5</td>\n",
              "      <td>Upper middle income</td>\n",
              "    </tr>\n",
              "    <tr>\n",
              "      <th>190</th>\n",
              "      <td>Yemen, Rep.</td>\n",
              "      <td>YEM</td>\n",
              "      <td>32.947</td>\n",
              "      <td>20.0</td>\n",
              "      <td>Lower middle income</td>\n",
              "    </tr>\n",
              "    <tr>\n",
              "      <th>...</th>\n",
              "      <td>...</td>\n",
              "      <td>...</td>\n",
              "      <td>...</td>\n",
              "      <td>...</td>\n",
              "      <td>...</td>\n",
              "    </tr>\n",
              "    <tr>\n",
              "      <th>4</th>\n",
              "      <td>United Arab Emirates</td>\n",
              "      <td>ARE</td>\n",
              "      <td>11.044</td>\n",
              "      <td>88.0</td>\n",
              "      <td>High income</td>\n",
              "    </tr>\n",
              "    <tr>\n",
              "      <th>3</th>\n",
              "      <td>Albania</td>\n",
              "      <td>ALB</td>\n",
              "      <td>12.877</td>\n",
              "      <td>57.2</td>\n",
              "      <td>Upper middle income</td>\n",
              "    </tr>\n",
              "    <tr>\n",
              "      <th>2</th>\n",
              "      <td>Angola</td>\n",
              "      <td>AGO</td>\n",
              "      <td>45.985</td>\n",
              "      <td>19.1</td>\n",
              "      <td>Upper middle income</td>\n",
              "    </tr>\n",
              "    <tr>\n",
              "      <th>1</th>\n",
              "      <td>Afghanistan</td>\n",
              "      <td>AFG</td>\n",
              "      <td>35.253</td>\n",
              "      <td>5.9</td>\n",
              "      <td>Low income</td>\n",
              "    </tr>\n",
              "    <tr>\n",
              "      <th>0</th>\n",
              "      <td>Aruba</td>\n",
              "      <td>ABW</td>\n",
              "      <td>10.244</td>\n",
              "      <td>78.9</td>\n",
              "      <td>High income</td>\n",
              "    </tr>\n",
              "  </tbody>\n",
              "</table>\n",
              "<p>195 rows × 5 columns</p>\n",
              "</div>"
            ],
            "text/plain": [
              "              CountryName CountryCode  ...  InternetUsers          IncomeGroup\n",
              "194              Zimbabwe         ZWE  ...           18.5           Low income\n",
              "193                Zambia         ZMB  ...           15.4  Lower middle income\n",
              "192      Congo, Dem. Rep.         COD  ...            2.2           Low income\n",
              "191          South Africa         ZAF  ...           46.5  Upper middle income\n",
              "190           Yemen, Rep.         YEM  ...           20.0  Lower middle income\n",
              "..                    ...         ...  ...            ...                  ...\n",
              "4    United Arab Emirates         ARE  ...           88.0          High income\n",
              "3                 Albania         ALB  ...           57.2  Upper middle income\n",
              "2                  Angola         AGO  ...           19.1  Upper middle income\n",
              "1             Afghanistan         AFG  ...            5.9           Low income\n",
              "0                   Aruba         ABW  ...           78.9          High income\n",
              "\n",
              "[195 rows x 5 columns]"
            ]
          },
          "metadata": {
            "tags": []
          },
          "execution_count": 70
        }
      ]
    },
    {
      "cell_type": "code",
      "metadata": {
        "id": "qx3aNd7sM9cC",
        "colab_type": "code",
        "outputId": "c09d9c3d-0d12-4c8b-8a5d-38b3412d9c24",
        "colab": {
          "base_uri": "https://localhost:8080/",
          "height": 348
        }
      },
      "source": [
        "# get every 20th\n",
        "stats[::20]"
      ],
      "execution_count": 0,
      "outputs": [
        {
          "output_type": "execute_result",
          "data": {
            "text/html": [
              "<div>\n",
              "<style scoped>\n",
              "    .dataframe tbody tr th:only-of-type {\n",
              "        vertical-align: middle;\n",
              "    }\n",
              "\n",
              "    .dataframe tbody tr th {\n",
              "        vertical-align: top;\n",
              "    }\n",
              "\n",
              "    .dataframe thead th {\n",
              "        text-align: right;\n",
              "    }\n",
              "</style>\n",
              "<table border=\"1\" class=\"dataframe\">\n",
              "  <thead>\n",
              "    <tr style=\"text-align: right;\">\n",
              "      <th></th>\n",
              "      <th>CountryName</th>\n",
              "      <th>CountryCode</th>\n",
              "      <th>BirthRate</th>\n",
              "      <th>InternetUsers</th>\n",
              "      <th>IncomeGroup</th>\n",
              "    </tr>\n",
              "  </thead>\n",
              "  <tbody>\n",
              "    <tr>\n",
              "      <th>0</th>\n",
              "      <td>Aruba</td>\n",
              "      <td>ABW</td>\n",
              "      <td>10.244</td>\n",
              "      <td>78.9000</td>\n",
              "      <td>High income</td>\n",
              "    </tr>\n",
              "    <tr>\n",
              "      <th>20</th>\n",
              "      <td>Belarus</td>\n",
              "      <td>BLR</td>\n",
              "      <td>12.500</td>\n",
              "      <td>54.1700</td>\n",
              "      <td>Upper middle income</td>\n",
              "    </tr>\n",
              "    <tr>\n",
              "      <th>40</th>\n",
              "      <td>Costa Rica</td>\n",
              "      <td>CRI</td>\n",
              "      <td>15.022</td>\n",
              "      <td>45.9600</td>\n",
              "      <td>Upper middle income</td>\n",
              "    </tr>\n",
              "    <tr>\n",
              "      <th>60</th>\n",
              "      <td>Gabon</td>\n",
              "      <td>GAB</td>\n",
              "      <td>30.555</td>\n",
              "      <td>9.2000</td>\n",
              "      <td>Upper middle income</td>\n",
              "    </tr>\n",
              "    <tr>\n",
              "      <th>80</th>\n",
              "      <td>India</td>\n",
              "      <td>IND</td>\n",
              "      <td>20.291</td>\n",
              "      <td>15.1000</td>\n",
              "      <td>Lower middle income</td>\n",
              "    </tr>\n",
              "    <tr>\n",
              "      <th>100</th>\n",
              "      <td>Libya</td>\n",
              "      <td>LBY</td>\n",
              "      <td>21.425</td>\n",
              "      <td>16.5000</td>\n",
              "      <td>Upper middle income</td>\n",
              "    </tr>\n",
              "    <tr>\n",
              "      <th>120</th>\n",
              "      <td>Mozambique</td>\n",
              "      <td>MOZ</td>\n",
              "      <td>39.705</td>\n",
              "      <td>5.4000</td>\n",
              "      <td>Low income</td>\n",
              "    </tr>\n",
              "    <tr>\n",
              "      <th>140</th>\n",
              "      <td>Poland</td>\n",
              "      <td>POL</td>\n",
              "      <td>9.600</td>\n",
              "      <td>62.8492</td>\n",
              "      <td>High income</td>\n",
              "    </tr>\n",
              "    <tr>\n",
              "      <th>160</th>\n",
              "      <td>Suriname</td>\n",
              "      <td>SUR</td>\n",
              "      <td>18.455</td>\n",
              "      <td>37.4000</td>\n",
              "      <td>Upper middle income</td>\n",
              "    </tr>\n",
              "    <tr>\n",
              "      <th>180</th>\n",
              "      <td>Uruguay</td>\n",
              "      <td>URY</td>\n",
              "      <td>14.374</td>\n",
              "      <td>57.6900</td>\n",
              "      <td>High income</td>\n",
              "    </tr>\n",
              "  </tbody>\n",
              "</table>\n",
              "</div>"
            ],
            "text/plain": [
              "    CountryName CountryCode  BirthRate  InternetUsers          IncomeGroup\n",
              "0         Aruba         ABW     10.244        78.9000          High income\n",
              "20      Belarus         BLR     12.500        54.1700  Upper middle income\n",
              "40   Costa Rica         CRI     15.022        45.9600  Upper middle income\n",
              "60        Gabon         GAB     30.555         9.2000  Upper middle income\n",
              "80        India         IND     20.291        15.1000  Lower middle income\n",
              "100       Libya         LBY     21.425        16.5000  Upper middle income\n",
              "120  Mozambique         MOZ     39.705         5.4000           Low income\n",
              "140      Poland         POL      9.600        62.8492          High income\n",
              "160    Suriname         SUR     18.455        37.4000  Upper middle income\n",
              "180     Uruguay         URY     14.374        57.6900          High income"
            ]
          },
          "metadata": {
            "tags": []
          },
          "execution_count": 71
        }
      ]
    },
    {
      "cell_type": "code",
      "metadata": {
        "id": "r2SWMDdUNLHd",
        "colab_type": "code",
        "outputId": "633eeed3-6727-4232-dc5c-63cbeaf10e0f",
        "colab": {
          "base_uri": "https://localhost:8080/",
          "height": 407
        }
      },
      "source": [
        "stats[['CountryCode', 'BirthRate']]"
      ],
      "execution_count": 0,
      "outputs": [
        {
          "output_type": "execute_result",
          "data": {
            "text/html": [
              "<div>\n",
              "<style scoped>\n",
              "    .dataframe tbody tr th:only-of-type {\n",
              "        vertical-align: middle;\n",
              "    }\n",
              "\n",
              "    .dataframe tbody tr th {\n",
              "        vertical-align: top;\n",
              "    }\n",
              "\n",
              "    .dataframe thead th {\n",
              "        text-align: right;\n",
              "    }\n",
              "</style>\n",
              "<table border=\"1\" class=\"dataframe\">\n",
              "  <thead>\n",
              "    <tr style=\"text-align: right;\">\n",
              "      <th></th>\n",
              "      <th>CountryCode</th>\n",
              "      <th>BirthRate</th>\n",
              "    </tr>\n",
              "  </thead>\n",
              "  <tbody>\n",
              "    <tr>\n",
              "      <th>0</th>\n",
              "      <td>ABW</td>\n",
              "      <td>10.244</td>\n",
              "    </tr>\n",
              "    <tr>\n",
              "      <th>1</th>\n",
              "      <td>AFG</td>\n",
              "      <td>35.253</td>\n",
              "    </tr>\n",
              "    <tr>\n",
              "      <th>2</th>\n",
              "      <td>AGO</td>\n",
              "      <td>45.985</td>\n",
              "    </tr>\n",
              "    <tr>\n",
              "      <th>3</th>\n",
              "      <td>ALB</td>\n",
              "      <td>12.877</td>\n",
              "    </tr>\n",
              "    <tr>\n",
              "      <th>4</th>\n",
              "      <td>ARE</td>\n",
              "      <td>11.044</td>\n",
              "    </tr>\n",
              "    <tr>\n",
              "      <th>...</th>\n",
              "      <td>...</td>\n",
              "      <td>...</td>\n",
              "    </tr>\n",
              "    <tr>\n",
              "      <th>190</th>\n",
              "      <td>YEM</td>\n",
              "      <td>32.947</td>\n",
              "    </tr>\n",
              "    <tr>\n",
              "      <th>191</th>\n",
              "      <td>ZAF</td>\n",
              "      <td>20.850</td>\n",
              "    </tr>\n",
              "    <tr>\n",
              "      <th>192</th>\n",
              "      <td>COD</td>\n",
              "      <td>42.394</td>\n",
              "    </tr>\n",
              "    <tr>\n",
              "      <th>193</th>\n",
              "      <td>ZMB</td>\n",
              "      <td>40.471</td>\n",
              "    </tr>\n",
              "    <tr>\n",
              "      <th>194</th>\n",
              "      <td>ZWE</td>\n",
              "      <td>35.715</td>\n",
              "    </tr>\n",
              "  </tbody>\n",
              "</table>\n",
              "<p>195 rows × 2 columns</p>\n",
              "</div>"
            ],
            "text/plain": [
              "    CountryCode  BirthRate\n",
              "0           ABW     10.244\n",
              "1           AFG     35.253\n",
              "2           AGO     45.985\n",
              "3           ALB     12.877\n",
              "4           ARE     11.044\n",
              "..          ...        ...\n",
              "190         YEM     32.947\n",
              "191         ZAF     20.850\n",
              "192         COD     42.394\n",
              "193         ZMB     40.471\n",
              "194         ZWE     35.715\n",
              "\n",
              "[195 rows x 2 columns]"
            ]
          },
          "metadata": {
            "tags": []
          },
          "execution_count": 72
        }
      ]
    },
    {
      "cell_type": "code",
      "metadata": {
        "id": "xmmw2f-GNe1E",
        "colab_type": "code",
        "outputId": "a4d73da0-7a28-4071-daf1-a01ba9f9f45e",
        "colab": {
          "base_uri": "https://localhost:8080/",
          "height": 407
        }
      },
      "source": [
        "stats[['BirthRate', 'CountryCode']]"
      ],
      "execution_count": 0,
      "outputs": [
        {
          "output_type": "execute_result",
          "data": {
            "text/html": [
              "<div>\n",
              "<style scoped>\n",
              "    .dataframe tbody tr th:only-of-type {\n",
              "        vertical-align: middle;\n",
              "    }\n",
              "\n",
              "    .dataframe tbody tr th {\n",
              "        vertical-align: top;\n",
              "    }\n",
              "\n",
              "    .dataframe thead th {\n",
              "        text-align: right;\n",
              "    }\n",
              "</style>\n",
              "<table border=\"1\" class=\"dataframe\">\n",
              "  <thead>\n",
              "    <tr style=\"text-align: right;\">\n",
              "      <th></th>\n",
              "      <th>BirthRate</th>\n",
              "      <th>CountryCode</th>\n",
              "    </tr>\n",
              "  </thead>\n",
              "  <tbody>\n",
              "    <tr>\n",
              "      <th>0</th>\n",
              "      <td>10.244</td>\n",
              "      <td>ABW</td>\n",
              "    </tr>\n",
              "    <tr>\n",
              "      <th>1</th>\n",
              "      <td>35.253</td>\n",
              "      <td>AFG</td>\n",
              "    </tr>\n",
              "    <tr>\n",
              "      <th>2</th>\n",
              "      <td>45.985</td>\n",
              "      <td>AGO</td>\n",
              "    </tr>\n",
              "    <tr>\n",
              "      <th>3</th>\n",
              "      <td>12.877</td>\n",
              "      <td>ALB</td>\n",
              "    </tr>\n",
              "    <tr>\n",
              "      <th>4</th>\n",
              "      <td>11.044</td>\n",
              "      <td>ARE</td>\n",
              "    </tr>\n",
              "    <tr>\n",
              "      <th>...</th>\n",
              "      <td>...</td>\n",
              "      <td>...</td>\n",
              "    </tr>\n",
              "    <tr>\n",
              "      <th>190</th>\n",
              "      <td>32.947</td>\n",
              "      <td>YEM</td>\n",
              "    </tr>\n",
              "    <tr>\n",
              "      <th>191</th>\n",
              "      <td>20.850</td>\n",
              "      <td>ZAF</td>\n",
              "    </tr>\n",
              "    <tr>\n",
              "      <th>192</th>\n",
              "      <td>42.394</td>\n",
              "      <td>COD</td>\n",
              "    </tr>\n",
              "    <tr>\n",
              "      <th>193</th>\n",
              "      <td>40.471</td>\n",
              "      <td>ZMB</td>\n",
              "    </tr>\n",
              "    <tr>\n",
              "      <th>194</th>\n",
              "      <td>35.715</td>\n",
              "      <td>ZWE</td>\n",
              "    </tr>\n",
              "  </tbody>\n",
              "</table>\n",
              "<p>195 rows × 2 columns</p>\n",
              "</div>"
            ],
            "text/plain": [
              "     BirthRate CountryCode\n",
              "0       10.244         ABW\n",
              "1       35.253         AFG\n",
              "2       45.985         AGO\n",
              "3       12.877         ALB\n",
              "4       11.044         ARE\n",
              "..         ...         ...\n",
              "190     32.947         YEM\n",
              "191     20.850         ZAF\n",
              "192     42.394         COD\n",
              "193     40.471         ZMB\n",
              "194     35.715         ZWE\n",
              "\n",
              "[195 rows x 2 columns]"
            ]
          },
          "metadata": {
            "tags": []
          },
          "execution_count": 73
        }
      ]
    },
    {
      "cell_type": "code",
      "metadata": {
        "id": "qGtx4PRjNx88",
        "colab_type": "code",
        "outputId": "146e5632-b301-464e-dfa0-353da2d60865",
        "colab": {
          "base_uri": "https://localhost:8080/",
          "height": 225
        }
      },
      "source": [
        "stats.BirthRate"
      ],
      "execution_count": 0,
      "outputs": [
        {
          "output_type": "execute_result",
          "data": {
            "text/plain": [
              "0      10.244\n",
              "1      35.253\n",
              "2      45.985\n",
              "3      12.877\n",
              "4      11.044\n",
              "        ...  \n",
              "190    32.947\n",
              "191    20.850\n",
              "192    42.394\n",
              "193    40.471\n",
              "194    35.715\n",
              "Name: BirthRate, Length: 195, dtype: float64"
            ]
          },
          "metadata": {
            "tags": []
          },
          "execution_count": 74
        }
      ]
    },
    {
      "cell_type": "code",
      "metadata": {
        "id": "i7daa_-hOKcm",
        "colab_type": "code",
        "outputId": "a93086f6-f0d8-4eef-fe7d-81ae0bea5ce8",
        "colab": {
          "base_uri": "https://localhost:8080/",
          "height": 168
        }
      },
      "source": [
        "stats[4:8][['CountryName', 'BirthRate']]"
      ],
      "execution_count": 0,
      "outputs": [
        {
          "output_type": "execute_result",
          "data": {
            "text/html": [
              "<div>\n",
              "<style scoped>\n",
              "    .dataframe tbody tr th:only-of-type {\n",
              "        vertical-align: middle;\n",
              "    }\n",
              "\n",
              "    .dataframe tbody tr th {\n",
              "        vertical-align: top;\n",
              "    }\n",
              "\n",
              "    .dataframe thead th {\n",
              "        text-align: right;\n",
              "    }\n",
              "</style>\n",
              "<table border=\"1\" class=\"dataframe\">\n",
              "  <thead>\n",
              "    <tr style=\"text-align: right;\">\n",
              "      <th></th>\n",
              "      <th>CountryName</th>\n",
              "      <th>BirthRate</th>\n",
              "    </tr>\n",
              "  </thead>\n",
              "  <tbody>\n",
              "    <tr>\n",
              "      <th>4</th>\n",
              "      <td>United Arab Emirates</td>\n",
              "      <td>11.044</td>\n",
              "    </tr>\n",
              "    <tr>\n",
              "      <th>5</th>\n",
              "      <td>Argentina</td>\n",
              "      <td>17.716</td>\n",
              "    </tr>\n",
              "    <tr>\n",
              "      <th>6</th>\n",
              "      <td>Armenia</td>\n",
              "      <td>13.308</td>\n",
              "    </tr>\n",
              "    <tr>\n",
              "      <th>7</th>\n",
              "      <td>Antigua and Barbuda</td>\n",
              "      <td>16.447</td>\n",
              "    </tr>\n",
              "  </tbody>\n",
              "</table>\n",
              "</div>"
            ],
            "text/plain": [
              "            CountryName  BirthRate\n",
              "4  United Arab Emirates     11.044\n",
              "5             Argentina     17.716\n",
              "6               Armenia     13.308\n",
              "7   Antigua and Barbuda     16.447"
            ]
          },
          "metadata": {
            "tags": []
          },
          "execution_count": 75
        }
      ]
    },
    {
      "cell_type": "code",
      "metadata": {
        "id": "TE1-Z9jwOdmm",
        "colab_type": "code",
        "colab": {}
      },
      "source": [
        "# Basic Operations with Dataframes"
      ],
      "execution_count": 0,
      "outputs": []
    },
    {
      "cell_type": "code",
      "metadata": {
        "id": "R8tvLNfGOzv-",
        "colab_type": "code",
        "colab": {}
      },
      "source": [
        "# Mathematical Operations\n",
        "result = stats.BirthRate * stats.InternetUsers"
      ],
      "execution_count": 0,
      "outputs": []
    },
    {
      "cell_type": "code",
      "metadata": {
        "id": "vN8Cs-kFPblD",
        "colab_type": "code",
        "outputId": "4c2dfa90-ca9d-4fd4-8a2a-899d43480960",
        "colab": {
          "base_uri": "https://localhost:8080/",
          "height": 225
        }
      },
      "source": [
        "result"
      ],
      "execution_count": 0,
      "outputs": [
        {
          "output_type": "execute_result",
          "data": {
            "text/plain": [
              "0      808.2516\n",
              "1      207.9927\n",
              "2      878.3135\n",
              "3      736.5644\n",
              "4      971.8720\n",
              "         ...   \n",
              "190    658.9400\n",
              "191    969.5250\n",
              "192     93.2668\n",
              "193    623.2534\n",
              "194    660.7275\n",
              "Length: 195, dtype: float64"
            ]
          },
          "metadata": {
            "tags": []
          },
          "execution_count": 78
        }
      ]
    },
    {
      "cell_type": "code",
      "metadata": {
        "id": "0JVdbx0vR-vg",
        "colab_type": "code",
        "outputId": "e8e5ad09-a95f-49ca-fd56-4a106cddf124",
        "colab": {
          "base_uri": "https://localhost:8080/",
          "height": 407
        }
      },
      "source": [
        "stats"
      ],
      "execution_count": 0,
      "outputs": [
        {
          "output_type": "execute_result",
          "data": {
            "text/html": [
              "<div>\n",
              "<style scoped>\n",
              "    .dataframe tbody tr th:only-of-type {\n",
              "        vertical-align: middle;\n",
              "    }\n",
              "\n",
              "    .dataframe tbody tr th {\n",
              "        vertical-align: top;\n",
              "    }\n",
              "\n",
              "    .dataframe thead th {\n",
              "        text-align: right;\n",
              "    }\n",
              "</style>\n",
              "<table border=\"1\" class=\"dataframe\">\n",
              "  <thead>\n",
              "    <tr style=\"text-align: right;\">\n",
              "      <th></th>\n",
              "      <th>CountryName</th>\n",
              "      <th>CountryCode</th>\n",
              "      <th>BirthRate</th>\n",
              "      <th>InternetUsers</th>\n",
              "      <th>IncomeGroup</th>\n",
              "    </tr>\n",
              "  </thead>\n",
              "  <tbody>\n",
              "    <tr>\n",
              "      <th>0</th>\n",
              "      <td>Aruba</td>\n",
              "      <td>ABW</td>\n",
              "      <td>10.244</td>\n",
              "      <td>78.9</td>\n",
              "      <td>High income</td>\n",
              "    </tr>\n",
              "    <tr>\n",
              "      <th>1</th>\n",
              "      <td>Afghanistan</td>\n",
              "      <td>AFG</td>\n",
              "      <td>35.253</td>\n",
              "      <td>5.9</td>\n",
              "      <td>Low income</td>\n",
              "    </tr>\n",
              "    <tr>\n",
              "      <th>2</th>\n",
              "      <td>Angola</td>\n",
              "      <td>AGO</td>\n",
              "      <td>45.985</td>\n",
              "      <td>19.1</td>\n",
              "      <td>Upper middle income</td>\n",
              "    </tr>\n",
              "    <tr>\n",
              "      <th>3</th>\n",
              "      <td>Albania</td>\n",
              "      <td>ALB</td>\n",
              "      <td>12.877</td>\n",
              "      <td>57.2</td>\n",
              "      <td>Upper middle income</td>\n",
              "    </tr>\n",
              "    <tr>\n",
              "      <th>4</th>\n",
              "      <td>United Arab Emirates</td>\n",
              "      <td>ARE</td>\n",
              "      <td>11.044</td>\n",
              "      <td>88.0</td>\n",
              "      <td>High income</td>\n",
              "    </tr>\n",
              "    <tr>\n",
              "      <th>...</th>\n",
              "      <td>...</td>\n",
              "      <td>...</td>\n",
              "      <td>...</td>\n",
              "      <td>...</td>\n",
              "      <td>...</td>\n",
              "    </tr>\n",
              "    <tr>\n",
              "      <th>190</th>\n",
              "      <td>Yemen, Rep.</td>\n",
              "      <td>YEM</td>\n",
              "      <td>32.947</td>\n",
              "      <td>20.0</td>\n",
              "      <td>Lower middle income</td>\n",
              "    </tr>\n",
              "    <tr>\n",
              "      <th>191</th>\n",
              "      <td>South Africa</td>\n",
              "      <td>ZAF</td>\n",
              "      <td>20.850</td>\n",
              "      <td>46.5</td>\n",
              "      <td>Upper middle income</td>\n",
              "    </tr>\n",
              "    <tr>\n",
              "      <th>192</th>\n",
              "      <td>Congo, Dem. Rep.</td>\n",
              "      <td>COD</td>\n",
              "      <td>42.394</td>\n",
              "      <td>2.2</td>\n",
              "      <td>Low income</td>\n",
              "    </tr>\n",
              "    <tr>\n",
              "      <th>193</th>\n",
              "      <td>Zambia</td>\n",
              "      <td>ZMB</td>\n",
              "      <td>40.471</td>\n",
              "      <td>15.4</td>\n",
              "      <td>Lower middle income</td>\n",
              "    </tr>\n",
              "    <tr>\n",
              "      <th>194</th>\n",
              "      <td>Zimbabwe</td>\n",
              "      <td>ZWE</td>\n",
              "      <td>35.715</td>\n",
              "      <td>18.5</td>\n",
              "      <td>Low income</td>\n",
              "    </tr>\n",
              "  </tbody>\n",
              "</table>\n",
              "<p>195 rows × 5 columns</p>\n",
              "</div>"
            ],
            "text/plain": [
              "              CountryName CountryCode  ...  InternetUsers          IncomeGroup\n",
              "0                   Aruba         ABW  ...           78.9          High income\n",
              "1             Afghanistan         AFG  ...            5.9           Low income\n",
              "2                  Angola         AGO  ...           19.1  Upper middle income\n",
              "3                 Albania         ALB  ...           57.2  Upper middle income\n",
              "4    United Arab Emirates         ARE  ...           88.0          High income\n",
              "..                    ...         ...  ...            ...                  ...\n",
              "190           Yemen, Rep.         YEM  ...           20.0  Lower middle income\n",
              "191          South Africa         ZAF  ...           46.5  Upper middle income\n",
              "192      Congo, Dem. Rep.         COD  ...            2.2           Low income\n",
              "193                Zambia         ZMB  ...           15.4  Lower middle income\n",
              "194              Zimbabwe         ZWE  ...           18.5           Low income\n",
              "\n",
              "[195 rows x 5 columns]"
            ]
          },
          "metadata": {
            "tags": []
          },
          "execution_count": 79
        }
      ]
    },
    {
      "cell_type": "code",
      "metadata": {
        "id": "_NgcZAvxPc6X",
        "colab_type": "code",
        "outputId": "2b864a0a-7616-4834-c1d7-19a96d2abbe3",
        "colab": {
          "base_uri": "https://localhost:8080/",
          "height": 407
        }
      },
      "source": [
        "# Add column\n",
        "stats['MyCalc'] = stats.BirthRate * stats.InternetUsers\n",
        "stats"
      ],
      "execution_count": 0,
      "outputs": [
        {
          "output_type": "execute_result",
          "data": {
            "text/html": [
              "<div>\n",
              "<style scoped>\n",
              "    .dataframe tbody tr th:only-of-type {\n",
              "        vertical-align: middle;\n",
              "    }\n",
              "\n",
              "    .dataframe tbody tr th {\n",
              "        vertical-align: top;\n",
              "    }\n",
              "\n",
              "    .dataframe thead th {\n",
              "        text-align: right;\n",
              "    }\n",
              "</style>\n",
              "<table border=\"1\" class=\"dataframe\">\n",
              "  <thead>\n",
              "    <tr style=\"text-align: right;\">\n",
              "      <th></th>\n",
              "      <th>CountryName</th>\n",
              "      <th>CountryCode</th>\n",
              "      <th>BirthRate</th>\n",
              "      <th>InternetUsers</th>\n",
              "      <th>IncomeGroup</th>\n",
              "      <th>MyCalc</th>\n",
              "    </tr>\n",
              "  </thead>\n",
              "  <tbody>\n",
              "    <tr>\n",
              "      <th>0</th>\n",
              "      <td>Aruba</td>\n",
              "      <td>ABW</td>\n",
              "      <td>10.244</td>\n",
              "      <td>78.9</td>\n",
              "      <td>High income</td>\n",
              "      <td>808.2516</td>\n",
              "    </tr>\n",
              "    <tr>\n",
              "      <th>1</th>\n",
              "      <td>Afghanistan</td>\n",
              "      <td>AFG</td>\n",
              "      <td>35.253</td>\n",
              "      <td>5.9</td>\n",
              "      <td>Low income</td>\n",
              "      <td>207.9927</td>\n",
              "    </tr>\n",
              "    <tr>\n",
              "      <th>2</th>\n",
              "      <td>Angola</td>\n",
              "      <td>AGO</td>\n",
              "      <td>45.985</td>\n",
              "      <td>19.1</td>\n",
              "      <td>Upper middle income</td>\n",
              "      <td>878.3135</td>\n",
              "    </tr>\n",
              "    <tr>\n",
              "      <th>3</th>\n",
              "      <td>Albania</td>\n",
              "      <td>ALB</td>\n",
              "      <td>12.877</td>\n",
              "      <td>57.2</td>\n",
              "      <td>Upper middle income</td>\n",
              "      <td>736.5644</td>\n",
              "    </tr>\n",
              "    <tr>\n",
              "      <th>4</th>\n",
              "      <td>United Arab Emirates</td>\n",
              "      <td>ARE</td>\n",
              "      <td>11.044</td>\n",
              "      <td>88.0</td>\n",
              "      <td>High income</td>\n",
              "      <td>971.8720</td>\n",
              "    </tr>\n",
              "    <tr>\n",
              "      <th>...</th>\n",
              "      <td>...</td>\n",
              "      <td>...</td>\n",
              "      <td>...</td>\n",
              "      <td>...</td>\n",
              "      <td>...</td>\n",
              "      <td>...</td>\n",
              "    </tr>\n",
              "    <tr>\n",
              "      <th>190</th>\n",
              "      <td>Yemen, Rep.</td>\n",
              "      <td>YEM</td>\n",
              "      <td>32.947</td>\n",
              "      <td>20.0</td>\n",
              "      <td>Lower middle income</td>\n",
              "      <td>658.9400</td>\n",
              "    </tr>\n",
              "    <tr>\n",
              "      <th>191</th>\n",
              "      <td>South Africa</td>\n",
              "      <td>ZAF</td>\n",
              "      <td>20.850</td>\n",
              "      <td>46.5</td>\n",
              "      <td>Upper middle income</td>\n",
              "      <td>969.5250</td>\n",
              "    </tr>\n",
              "    <tr>\n",
              "      <th>192</th>\n",
              "      <td>Congo, Dem. Rep.</td>\n",
              "      <td>COD</td>\n",
              "      <td>42.394</td>\n",
              "      <td>2.2</td>\n",
              "      <td>Low income</td>\n",
              "      <td>93.2668</td>\n",
              "    </tr>\n",
              "    <tr>\n",
              "      <th>193</th>\n",
              "      <td>Zambia</td>\n",
              "      <td>ZMB</td>\n",
              "      <td>40.471</td>\n",
              "      <td>15.4</td>\n",
              "      <td>Lower middle income</td>\n",
              "      <td>623.2534</td>\n",
              "    </tr>\n",
              "    <tr>\n",
              "      <th>194</th>\n",
              "      <td>Zimbabwe</td>\n",
              "      <td>ZWE</td>\n",
              "      <td>35.715</td>\n",
              "      <td>18.5</td>\n",
              "      <td>Low income</td>\n",
              "      <td>660.7275</td>\n",
              "    </tr>\n",
              "  </tbody>\n",
              "</table>\n",
              "<p>195 rows × 6 columns</p>\n",
              "</div>"
            ],
            "text/plain": [
              "              CountryName CountryCode  ...          IncomeGroup    MyCalc\n",
              "0                   Aruba         ABW  ...          High income  808.2516\n",
              "1             Afghanistan         AFG  ...           Low income  207.9927\n",
              "2                  Angola         AGO  ...  Upper middle income  878.3135\n",
              "3                 Albania         ALB  ...  Upper middle income  736.5644\n",
              "4    United Arab Emirates         ARE  ...          High income  971.8720\n",
              "..                    ...         ...  ...                  ...       ...\n",
              "190           Yemen, Rep.         YEM  ...  Lower middle income  658.9400\n",
              "191          South Africa         ZAF  ...  Upper middle income  969.5250\n",
              "192      Congo, Dem. Rep.         COD  ...           Low income   93.2668\n",
              "193                Zambia         ZMB  ...  Lower middle income  623.2534\n",
              "194              Zimbabwe         ZWE  ...           Low income  660.7275\n",
              "\n",
              "[195 rows x 6 columns]"
            ]
          },
          "metadata": {
            "tags": []
          },
          "execution_count": 80
        }
      ]
    },
    {
      "cell_type": "code",
      "metadata": {
        "id": "hE3MtpbePmMd",
        "colab_type": "code",
        "colab": {}
      },
      "source": [
        "# Removing a column\n"
      ],
      "execution_count": 0,
      "outputs": []
    },
    {
      "cell_type": "code",
      "metadata": {
        "id": "W8lMcsZWP6tK",
        "colab_type": "code",
        "colab": {}
      },
      "source": [
        "stats = stats.drop('MyCalc', 1)"
      ],
      "execution_count": 0,
      "outputs": []
    },
    {
      "cell_type": "code",
      "metadata": {
        "id": "UnuEz7TZQoy8",
        "colab_type": "code",
        "colab": {}
      },
      "source": [
        "# Filtering Dataframes\n",
        "\n",
        "stats.InternetUsers < 2\n",
        "Filter = stats.InternetUsers < 2"
      ],
      "execution_count": 0,
      "outputs": []
    },
    {
      "cell_type": "code",
      "metadata": {
        "id": "jRiXrGRtQr74",
        "colab_type": "code",
        "outputId": "f9b396e5-bd43-49d4-afc5-41a00581ee39",
        "colab": {
          "base_uri": "https://localhost:8080/",
          "height": 318
        }
      },
      "source": [
        "stats[Filter]"
      ],
      "execution_count": 0,
      "outputs": [
        {
          "output_type": "execute_result",
          "data": {
            "text/html": [
              "<div>\n",
              "<style scoped>\n",
              "    .dataframe tbody tr th:only-of-type {\n",
              "        vertical-align: middle;\n",
              "    }\n",
              "\n",
              "    .dataframe tbody tr th {\n",
              "        vertical-align: top;\n",
              "    }\n",
              "\n",
              "    .dataframe thead th {\n",
              "        text-align: right;\n",
              "    }\n",
              "</style>\n",
              "<table border=\"1\" class=\"dataframe\">\n",
              "  <thead>\n",
              "    <tr style=\"text-align: right;\">\n",
              "      <th></th>\n",
              "      <th>CountryName</th>\n",
              "      <th>CountryCode</th>\n",
              "      <th>BirthRate</th>\n",
              "      <th>InternetUsers</th>\n",
              "      <th>IncomeGroup</th>\n",
              "    </tr>\n",
              "  </thead>\n",
              "  <tbody>\n",
              "    <tr>\n",
              "      <th>11</th>\n",
              "      <td>Burundi</td>\n",
              "      <td>BDI</td>\n",
              "      <td>44.151</td>\n",
              "      <td>1.3</td>\n",
              "      <td>Low income</td>\n",
              "    </tr>\n",
              "    <tr>\n",
              "      <th>52</th>\n",
              "      <td>Eritrea</td>\n",
              "      <td>ERI</td>\n",
              "      <td>34.800</td>\n",
              "      <td>0.9</td>\n",
              "      <td>Low income</td>\n",
              "    </tr>\n",
              "    <tr>\n",
              "      <th>55</th>\n",
              "      <td>Ethiopia</td>\n",
              "      <td>ETH</td>\n",
              "      <td>32.925</td>\n",
              "      <td>1.9</td>\n",
              "      <td>Low income</td>\n",
              "    </tr>\n",
              "    <tr>\n",
              "      <th>64</th>\n",
              "      <td>Guinea</td>\n",
              "      <td>GIN</td>\n",
              "      <td>37.337</td>\n",
              "      <td>1.6</td>\n",
              "      <td>Low income</td>\n",
              "    </tr>\n",
              "    <tr>\n",
              "      <th>117</th>\n",
              "      <td>Myanmar</td>\n",
              "      <td>MMR</td>\n",
              "      <td>18.119</td>\n",
              "      <td>1.6</td>\n",
              "      <td>Lower middle income</td>\n",
              "    </tr>\n",
              "    <tr>\n",
              "      <th>127</th>\n",
              "      <td>Niger</td>\n",
              "      <td>NER</td>\n",
              "      <td>49.661</td>\n",
              "      <td>1.7</td>\n",
              "      <td>Low income</td>\n",
              "    </tr>\n",
              "    <tr>\n",
              "      <th>154</th>\n",
              "      <td>Sierra Leone</td>\n",
              "      <td>SLE</td>\n",
              "      <td>36.729</td>\n",
              "      <td>1.7</td>\n",
              "      <td>Low income</td>\n",
              "    </tr>\n",
              "    <tr>\n",
              "      <th>156</th>\n",
              "      <td>Somalia</td>\n",
              "      <td>SOM</td>\n",
              "      <td>43.891</td>\n",
              "      <td>1.5</td>\n",
              "      <td>Low income</td>\n",
              "    </tr>\n",
              "    <tr>\n",
              "      <th>172</th>\n",
              "      <td>Timor-Leste</td>\n",
              "      <td>TLS</td>\n",
              "      <td>35.755</td>\n",
              "      <td>1.1</td>\n",
              "      <td>Lower middle income</td>\n",
              "    </tr>\n",
              "  </tbody>\n",
              "</table>\n",
              "</div>"
            ],
            "text/plain": [
              "      CountryName CountryCode  BirthRate  InternetUsers          IncomeGroup\n",
              "11        Burundi         BDI     44.151            1.3           Low income\n",
              "52        Eritrea         ERI     34.800            0.9           Low income\n",
              "55       Ethiopia         ETH     32.925            1.9           Low income\n",
              "64         Guinea         GIN     37.337            1.6           Low income\n",
              "117       Myanmar         MMR     18.119            1.6  Lower middle income\n",
              "127         Niger         NER     49.661            1.7           Low income\n",
              "154  Sierra Leone         SLE     36.729            1.7           Low income\n",
              "156       Somalia         SOM     43.891            1.5           Low income\n",
              "172   Timor-Leste         TLS     35.755            1.1  Lower middle income"
            ]
          },
          "metadata": {
            "tags": []
          },
          "execution_count": 88
        }
      ]
    },
    {
      "cell_type": "code",
      "metadata": {
        "id": "uu0U87qSSdft",
        "colab_type": "code",
        "colab": {}
      },
      "source": [
        "Filter2 = stats.BirthRate > 40"
      ],
      "execution_count": 0,
      "outputs": []
    },
    {
      "cell_type": "code",
      "metadata": {
        "id": "-feay5tcSkkn",
        "colab_type": "code",
        "outputId": "003640e6-6d7a-4c0c-a217-438797441b54",
        "colab": {
          "base_uri": "https://localhost:8080/",
          "height": 408
        }
      },
      "source": [
        "stats[Filter2]"
      ],
      "execution_count": 0,
      "outputs": [
        {
          "output_type": "execute_result",
          "data": {
            "text/html": [
              "<div>\n",
              "<style scoped>\n",
              "    .dataframe tbody tr th:only-of-type {\n",
              "        vertical-align: middle;\n",
              "    }\n",
              "\n",
              "    .dataframe tbody tr th {\n",
              "        vertical-align: top;\n",
              "    }\n",
              "\n",
              "    .dataframe thead th {\n",
              "        text-align: right;\n",
              "    }\n",
              "</style>\n",
              "<table border=\"1\" class=\"dataframe\">\n",
              "  <thead>\n",
              "    <tr style=\"text-align: right;\">\n",
              "      <th></th>\n",
              "      <th>CountryName</th>\n",
              "      <th>CountryCode</th>\n",
              "      <th>BirthRate</th>\n",
              "      <th>InternetUsers</th>\n",
              "      <th>IncomeGroup</th>\n",
              "    </tr>\n",
              "  </thead>\n",
              "  <tbody>\n",
              "    <tr>\n",
              "      <th>2</th>\n",
              "      <td>Angola</td>\n",
              "      <td>AGO</td>\n",
              "      <td>45.985</td>\n",
              "      <td>19.1</td>\n",
              "      <td>Upper middle income</td>\n",
              "    </tr>\n",
              "    <tr>\n",
              "      <th>11</th>\n",
              "      <td>Burundi</td>\n",
              "      <td>BDI</td>\n",
              "      <td>44.151</td>\n",
              "      <td>1.3</td>\n",
              "      <td>Low income</td>\n",
              "    </tr>\n",
              "    <tr>\n",
              "      <th>14</th>\n",
              "      <td>Burkina Faso</td>\n",
              "      <td>BFA</td>\n",
              "      <td>40.551</td>\n",
              "      <td>9.1</td>\n",
              "      <td>Low income</td>\n",
              "    </tr>\n",
              "    <tr>\n",
              "      <th>65</th>\n",
              "      <td>Gambia, The</td>\n",
              "      <td>GMB</td>\n",
              "      <td>42.525</td>\n",
              "      <td>14.0</td>\n",
              "      <td>Low income</td>\n",
              "    </tr>\n",
              "    <tr>\n",
              "      <th>115</th>\n",
              "      <td>Mali</td>\n",
              "      <td>MLI</td>\n",
              "      <td>44.138</td>\n",
              "      <td>3.5</td>\n",
              "      <td>Low income</td>\n",
              "    </tr>\n",
              "    <tr>\n",
              "      <th>127</th>\n",
              "      <td>Niger</td>\n",
              "      <td>NER</td>\n",
              "      <td>49.661</td>\n",
              "      <td>1.7</td>\n",
              "      <td>Low income</td>\n",
              "    </tr>\n",
              "    <tr>\n",
              "      <th>128</th>\n",
              "      <td>Nigeria</td>\n",
              "      <td>NGA</td>\n",
              "      <td>40.045</td>\n",
              "      <td>38.0</td>\n",
              "      <td>Lower middle income</td>\n",
              "    </tr>\n",
              "    <tr>\n",
              "      <th>156</th>\n",
              "      <td>Somalia</td>\n",
              "      <td>SOM</td>\n",
              "      <td>43.891</td>\n",
              "      <td>1.5</td>\n",
              "      <td>Low income</td>\n",
              "    </tr>\n",
              "    <tr>\n",
              "      <th>167</th>\n",
              "      <td>Chad</td>\n",
              "      <td>TCD</td>\n",
              "      <td>45.745</td>\n",
              "      <td>2.3</td>\n",
              "      <td>Low income</td>\n",
              "    </tr>\n",
              "    <tr>\n",
              "      <th>178</th>\n",
              "      <td>Uganda</td>\n",
              "      <td>UGA</td>\n",
              "      <td>43.474</td>\n",
              "      <td>16.2</td>\n",
              "      <td>Low income</td>\n",
              "    </tr>\n",
              "    <tr>\n",
              "      <th>192</th>\n",
              "      <td>Congo, Dem. Rep.</td>\n",
              "      <td>COD</td>\n",
              "      <td>42.394</td>\n",
              "      <td>2.2</td>\n",
              "      <td>Low income</td>\n",
              "    </tr>\n",
              "    <tr>\n",
              "      <th>193</th>\n",
              "      <td>Zambia</td>\n",
              "      <td>ZMB</td>\n",
              "      <td>40.471</td>\n",
              "      <td>15.4</td>\n",
              "      <td>Lower middle income</td>\n",
              "    </tr>\n",
              "  </tbody>\n",
              "</table>\n",
              "</div>"
            ],
            "text/plain": [
              "          CountryName CountryCode  ...  InternetUsers          IncomeGroup\n",
              "2              Angola         AGO  ...           19.1  Upper middle income\n",
              "11            Burundi         BDI  ...            1.3           Low income\n",
              "14       Burkina Faso         BFA  ...            9.1           Low income\n",
              "65        Gambia, The         GMB  ...           14.0           Low income\n",
              "115              Mali         MLI  ...            3.5           Low income\n",
              "127             Niger         NER  ...            1.7           Low income\n",
              "128           Nigeria         NGA  ...           38.0  Lower middle income\n",
              "156           Somalia         SOM  ...            1.5           Low income\n",
              "167              Chad         TCD  ...            2.3           Low income\n",
              "178            Uganda         UGA  ...           16.2           Low income\n",
              "192  Congo, Dem. Rep.         COD  ...            2.2           Low income\n",
              "193            Zambia         ZMB  ...           15.4  Lower middle income\n",
              "\n",
              "[12 rows x 5 columns]"
            ]
          },
          "metadata": {
            "tags": []
          },
          "execution_count": 90
        }
      ]
    },
    {
      "cell_type": "code",
      "metadata": {
        "id": "R6qrrDWVSl0x",
        "colab_type": "code",
        "outputId": "da15bdb6-b058-4800-a804-2e657ff624e2",
        "colab": {
          "base_uri": "https://localhost:8080/",
          "height": 138
        }
      },
      "source": [
        "# stats[Filter and Filter2] # will not work\n",
        "stats[Filter & Filter2]"
      ],
      "execution_count": 0,
      "outputs": [
        {
          "output_type": "execute_result",
          "data": {
            "text/html": [
              "<div>\n",
              "<style scoped>\n",
              "    .dataframe tbody tr th:only-of-type {\n",
              "        vertical-align: middle;\n",
              "    }\n",
              "\n",
              "    .dataframe tbody tr th {\n",
              "        vertical-align: top;\n",
              "    }\n",
              "\n",
              "    .dataframe thead th {\n",
              "        text-align: right;\n",
              "    }\n",
              "</style>\n",
              "<table border=\"1\" class=\"dataframe\">\n",
              "  <thead>\n",
              "    <tr style=\"text-align: right;\">\n",
              "      <th></th>\n",
              "      <th>CountryName</th>\n",
              "      <th>CountryCode</th>\n",
              "      <th>BirthRate</th>\n",
              "      <th>InternetUsers</th>\n",
              "      <th>IncomeGroup</th>\n",
              "    </tr>\n",
              "  </thead>\n",
              "  <tbody>\n",
              "    <tr>\n",
              "      <th>11</th>\n",
              "      <td>Burundi</td>\n",
              "      <td>BDI</td>\n",
              "      <td>44.151</td>\n",
              "      <td>1.3</td>\n",
              "      <td>Low income</td>\n",
              "    </tr>\n",
              "    <tr>\n",
              "      <th>127</th>\n",
              "      <td>Niger</td>\n",
              "      <td>NER</td>\n",
              "      <td>49.661</td>\n",
              "      <td>1.7</td>\n",
              "      <td>Low income</td>\n",
              "    </tr>\n",
              "    <tr>\n",
              "      <th>156</th>\n",
              "      <td>Somalia</td>\n",
              "      <td>SOM</td>\n",
              "      <td>43.891</td>\n",
              "      <td>1.5</td>\n",
              "      <td>Low income</td>\n",
              "    </tr>\n",
              "  </tbody>\n",
              "</table>\n",
              "</div>"
            ],
            "text/plain": [
              "    CountryName CountryCode  BirthRate  InternetUsers IncomeGroup\n",
              "11      Burundi         BDI     44.151            1.3  Low income\n",
              "127       Niger         NER     49.661            1.7  Low income\n",
              "156     Somalia         SOM     43.891            1.5  Low income"
            ]
          },
          "metadata": {
            "tags": []
          },
          "execution_count": 92
        }
      ]
    },
    {
      "cell_type": "code",
      "metadata": {
        "id": "WIth8-LaTtj3",
        "colab_type": "code",
        "outputId": "be69cb29-1b66-4dcf-c3d5-6b8bc56fd7cf",
        "colab": {
          "base_uri": "https://localhost:8080/",
          "height": 138
        }
      },
      "source": [
        "stats[(stats.BirthRate > 40) & (stats.InternetUsers < 2)]"
      ],
      "execution_count": 0,
      "outputs": [
        {
          "output_type": "execute_result",
          "data": {
            "text/html": [
              "<div>\n",
              "<style scoped>\n",
              "    .dataframe tbody tr th:only-of-type {\n",
              "        vertical-align: middle;\n",
              "    }\n",
              "\n",
              "    .dataframe tbody tr th {\n",
              "        vertical-align: top;\n",
              "    }\n",
              "\n",
              "    .dataframe thead th {\n",
              "        text-align: right;\n",
              "    }\n",
              "</style>\n",
              "<table border=\"1\" class=\"dataframe\">\n",
              "  <thead>\n",
              "    <tr style=\"text-align: right;\">\n",
              "      <th></th>\n",
              "      <th>CountryName</th>\n",
              "      <th>CountryCode</th>\n",
              "      <th>BirthRate</th>\n",
              "      <th>InternetUsers</th>\n",
              "      <th>IncomeGroup</th>\n",
              "    </tr>\n",
              "  </thead>\n",
              "  <tbody>\n",
              "    <tr>\n",
              "      <th>11</th>\n",
              "      <td>Burundi</td>\n",
              "      <td>BDI</td>\n",
              "      <td>44.151</td>\n",
              "      <td>1.3</td>\n",
              "      <td>Low income</td>\n",
              "    </tr>\n",
              "    <tr>\n",
              "      <th>127</th>\n",
              "      <td>Niger</td>\n",
              "      <td>NER</td>\n",
              "      <td>49.661</td>\n",
              "      <td>1.7</td>\n",
              "      <td>Low income</td>\n",
              "    </tr>\n",
              "    <tr>\n",
              "      <th>156</th>\n",
              "      <td>Somalia</td>\n",
              "      <td>SOM</td>\n",
              "      <td>43.891</td>\n",
              "      <td>1.5</td>\n",
              "      <td>Low income</td>\n",
              "    </tr>\n",
              "  </tbody>\n",
              "</table>\n",
              "</div>"
            ],
            "text/plain": [
              "    CountryName CountryCode  BirthRate  InternetUsers IncomeGroup\n",
              "11      Burundi         BDI     44.151            1.3  Low income\n",
              "127       Niger         NER     49.661            1.7  Low income\n",
              "156     Somalia         SOM     43.891            1.5  Low income"
            ]
          },
          "metadata": {
            "tags": []
          },
          "execution_count": 93
        }
      ]
    },
    {
      "cell_type": "code",
      "metadata": {
        "id": "hBJ55qLSUOXE",
        "colab_type": "code",
        "outputId": "2fd6c14f-7cb4-48fc-9ef3-427bcae31999",
        "colab": {
          "base_uri": "https://localhost:8080/",
          "height": 198
        }
      },
      "source": [
        "stats.head()"
      ],
      "execution_count": 0,
      "outputs": [
        {
          "output_type": "execute_result",
          "data": {
            "text/html": [
              "<div>\n",
              "<style scoped>\n",
              "    .dataframe tbody tr th:only-of-type {\n",
              "        vertical-align: middle;\n",
              "    }\n",
              "\n",
              "    .dataframe tbody tr th {\n",
              "        vertical-align: top;\n",
              "    }\n",
              "\n",
              "    .dataframe thead th {\n",
              "        text-align: right;\n",
              "    }\n",
              "</style>\n",
              "<table border=\"1\" class=\"dataframe\">\n",
              "  <thead>\n",
              "    <tr style=\"text-align: right;\">\n",
              "      <th></th>\n",
              "      <th>CountryName</th>\n",
              "      <th>CountryCode</th>\n",
              "      <th>BirthRate</th>\n",
              "      <th>InternetUsers</th>\n",
              "      <th>IncomeGroup</th>\n",
              "    </tr>\n",
              "  </thead>\n",
              "  <tbody>\n",
              "    <tr>\n",
              "      <th>0</th>\n",
              "      <td>Aruba</td>\n",
              "      <td>ABW</td>\n",
              "      <td>10.244</td>\n",
              "      <td>78.9</td>\n",
              "      <td>High income</td>\n",
              "    </tr>\n",
              "    <tr>\n",
              "      <th>1</th>\n",
              "      <td>Afghanistan</td>\n",
              "      <td>AFG</td>\n",
              "      <td>35.253</td>\n",
              "      <td>5.9</td>\n",
              "      <td>Low income</td>\n",
              "    </tr>\n",
              "    <tr>\n",
              "      <th>2</th>\n",
              "      <td>Angola</td>\n",
              "      <td>AGO</td>\n",
              "      <td>45.985</td>\n",
              "      <td>19.1</td>\n",
              "      <td>Upper middle income</td>\n",
              "    </tr>\n",
              "    <tr>\n",
              "      <th>3</th>\n",
              "      <td>Albania</td>\n",
              "      <td>ALB</td>\n",
              "      <td>12.877</td>\n",
              "      <td>57.2</td>\n",
              "      <td>Upper middle income</td>\n",
              "    </tr>\n",
              "    <tr>\n",
              "      <th>4</th>\n",
              "      <td>United Arab Emirates</td>\n",
              "      <td>ARE</td>\n",
              "      <td>11.044</td>\n",
              "      <td>88.0</td>\n",
              "      <td>High income</td>\n",
              "    </tr>\n",
              "  </tbody>\n",
              "</table>\n",
              "</div>"
            ],
            "text/plain": [
              "            CountryName CountryCode  ...  InternetUsers          IncomeGroup\n",
              "0                 Aruba         ABW  ...           78.9          High income\n",
              "1           Afghanistan         AFG  ...            5.9           Low income\n",
              "2                Angola         AGO  ...           19.1  Upper middle income\n",
              "3               Albania         ALB  ...           57.2  Upper middle income\n",
              "4  United Arab Emirates         ARE  ...           88.0          High income\n",
              "\n",
              "[5 rows x 5 columns]"
            ]
          },
          "metadata": {
            "tags": []
          },
          "execution_count": 94
        }
      ]
    },
    {
      "cell_type": "code",
      "metadata": {
        "id": "nNIAQ4hWUS-u",
        "colab_type": "code",
        "outputId": "e6f9e1f8-94e9-4aaf-e5e9-6a233159cf43",
        "colab": {
          "base_uri": "https://localhost:8080/",
          "height": 52
        }
      },
      "source": [
        "# How to get unique categories\n",
        "stats.IncomeGroup.unique()"
      ],
      "execution_count": 0,
      "outputs": [
        {
          "output_type": "execute_result",
          "data": {
            "text/plain": [
              "array(['High income', 'Low income', 'Upper middle income',\n",
              "       'Lower middle income'], dtype=object)"
            ]
          },
          "metadata": {
            "tags": []
          },
          "execution_count": 95
        }
      ]
    },
    {
      "cell_type": "code",
      "metadata": {
        "id": "MFRzIV61UjqL",
        "colab_type": "code",
        "outputId": "6cea0be6-9665-42f4-9f25-ad5b5de78019",
        "colab": {
          "base_uri": "https://localhost:8080/",
          "height": 78
        }
      },
      "source": [
        "stats[stats['CountryName']=='Malta']"
      ],
      "execution_count": 0,
      "outputs": [
        {
          "output_type": "execute_result",
          "data": {
            "text/html": [
              "<div>\n",
              "<style scoped>\n",
              "    .dataframe tbody tr th:only-of-type {\n",
              "        vertical-align: middle;\n",
              "    }\n",
              "\n",
              "    .dataframe tbody tr th {\n",
              "        vertical-align: top;\n",
              "    }\n",
              "\n",
              "    .dataframe thead th {\n",
              "        text-align: right;\n",
              "    }\n",
              "</style>\n",
              "<table border=\"1\" class=\"dataframe\">\n",
              "  <thead>\n",
              "    <tr style=\"text-align: right;\">\n",
              "      <th></th>\n",
              "      <th>CountryName</th>\n",
              "      <th>CountryCode</th>\n",
              "      <th>BirthRate</th>\n",
              "      <th>InternetUsers</th>\n",
              "      <th>IncomeGroup</th>\n",
              "    </tr>\n",
              "  </thead>\n",
              "  <tbody>\n",
              "    <tr>\n",
              "      <th>116</th>\n",
              "      <td>Malta</td>\n",
              "      <td>MLT</td>\n",
              "      <td>9.5</td>\n",
              "      <td>68.9138</td>\n",
              "      <td>High income</td>\n",
              "    </tr>\n",
              "  </tbody>\n",
              "</table>\n",
              "</div>"
            ],
            "text/plain": [
              "    CountryName CountryCode  BirthRate  InternetUsers  IncomeGroup\n",
              "116       Malta         MLT        9.5        68.9138  High income"
            ]
          },
          "metadata": {
            "tags": []
          },
          "execution_count": 99
        }
      ]
    },
    {
      "cell_type": "code",
      "metadata": {
        "id": "h5VoPBWWUu6m",
        "colab_type": "code",
        "outputId": "b84bb0f9-c861-4447-c254-e0698ad9430e",
        "colab": {
          "base_uri": "https://localhost:8080/",
          "height": 198
        }
      },
      "source": [
        "stats.head()"
      ],
      "execution_count": 0,
      "outputs": [
        {
          "output_type": "execute_result",
          "data": {
            "text/html": [
              "<div>\n",
              "<style scoped>\n",
              "    .dataframe tbody tr th:only-of-type {\n",
              "        vertical-align: middle;\n",
              "    }\n",
              "\n",
              "    .dataframe tbody tr th {\n",
              "        vertical-align: top;\n",
              "    }\n",
              "\n",
              "    .dataframe thead th {\n",
              "        text-align: right;\n",
              "    }\n",
              "</style>\n",
              "<table border=\"1\" class=\"dataframe\">\n",
              "  <thead>\n",
              "    <tr style=\"text-align: right;\">\n",
              "      <th></th>\n",
              "      <th>CountryName</th>\n",
              "      <th>CountryCode</th>\n",
              "      <th>BirthRate</th>\n",
              "      <th>InternetUsers</th>\n",
              "      <th>IncomeGroup</th>\n",
              "    </tr>\n",
              "  </thead>\n",
              "  <tbody>\n",
              "    <tr>\n",
              "      <th>0</th>\n",
              "      <td>Aruba</td>\n",
              "      <td>ABW</td>\n",
              "      <td>10.244</td>\n",
              "      <td>78.9</td>\n",
              "      <td>High income</td>\n",
              "    </tr>\n",
              "    <tr>\n",
              "      <th>1</th>\n",
              "      <td>Afghanistan</td>\n",
              "      <td>AFG</td>\n",
              "      <td>35.253</td>\n",
              "      <td>5.9</td>\n",
              "      <td>Low income</td>\n",
              "    </tr>\n",
              "    <tr>\n",
              "      <th>2</th>\n",
              "      <td>Angola</td>\n",
              "      <td>AGO</td>\n",
              "      <td>45.985</td>\n",
              "      <td>19.1</td>\n",
              "      <td>Upper middle income</td>\n",
              "    </tr>\n",
              "    <tr>\n",
              "      <th>3</th>\n",
              "      <td>Albania</td>\n",
              "      <td>ALB</td>\n",
              "      <td>12.877</td>\n",
              "      <td>57.2</td>\n",
              "      <td>Upper middle income</td>\n",
              "    </tr>\n",
              "    <tr>\n",
              "      <th>4</th>\n",
              "      <td>United Arab Emirates</td>\n",
              "      <td>ARE</td>\n",
              "      <td>11.044</td>\n",
              "      <td>88.0</td>\n",
              "      <td>High income</td>\n",
              "    </tr>\n",
              "  </tbody>\n",
              "</table>\n",
              "</div>"
            ],
            "text/plain": [
              "            CountryName CountryCode  ...  InternetUsers          IncomeGroup\n",
              "0                 Aruba         ABW  ...           78.9          High income\n",
              "1           Afghanistan         AFG  ...            5.9           Low income\n",
              "2                Angola         AGO  ...           19.1  Upper middle income\n",
              "3               Albania         ALB  ...           57.2  Upper middle income\n",
              "4  United Arab Emirates         ARE  ...           88.0          High income\n",
              "\n",
              "[5 rows x 5 columns]"
            ]
          },
          "metadata": {
            "tags": []
          },
          "execution_count": 100
        }
      ]
    },
    {
      "cell_type": "code",
      "metadata": {
        "id": "fXgARe9hVRJa",
        "colab_type": "code",
        "outputId": "53a4415a-7241-461e-caf1-abd379151a04",
        "colab": {
          "base_uri": "https://localhost:8080/",
          "height": 35
        }
      },
      "source": [
        "# at #for labels.  Important: even integers are treated as labels\n",
        "# iat #for integer location\n",
        "stats.iat[1,4]"
      ],
      "execution_count": 0,
      "outputs": [
        {
          "output_type": "execute_result",
          "data": {
            "text/plain": [
              "'Low income'"
            ]
          },
          "metadata": {
            "tags": []
          },
          "execution_count": 104
        }
      ]
    },
    {
      "cell_type": "code",
      "metadata": {
        "id": "oz7fWtKCVrqe",
        "colab_type": "code",
        "outputId": "8c0a3897-445f-4278-de02-c7e01b39c154",
        "colab": {
          "base_uri": "https://localhost:8080/",
          "height": 35
        }
      },
      "source": [
        "stats.at[1,'IncomeGroup']"
      ],
      "execution_count": 0,
      "outputs": [
        {
          "output_type": "execute_result",
          "data": {
            "text/plain": [
              "'Low income'"
            ]
          },
          "metadata": {
            "tags": []
          },
          "execution_count": 105
        }
      ]
    },
    {
      "cell_type": "code",
      "metadata": {
        "id": "urx1MwxxVv1u",
        "colab_type": "code",
        "colab": {}
      },
      "source": [
        "# Intro to Seaborn\n",
        "\n",
        "import matplotlib.pyplot as plt\n",
        "import seaborn as sns\n",
        "plt.rcParams['figure.figsize']=10,5"
      ],
      "execution_count": 0,
      "outputs": []
    },
    {
      "cell_type": "code",
      "metadata": {
        "id": "XwGhnfTiWqgu",
        "colab_type": "code",
        "outputId": "8287d27d-766c-47d8-f858-1da67eed6bd3",
        "colab": {
          "base_uri": "https://localhost:8080/",
          "height": 198
        }
      },
      "source": [
        "stats.head()"
      ],
      "execution_count": 0,
      "outputs": [
        {
          "output_type": "execute_result",
          "data": {
            "text/html": [
              "<div>\n",
              "<style scoped>\n",
              "    .dataframe tbody tr th:only-of-type {\n",
              "        vertical-align: middle;\n",
              "    }\n",
              "\n",
              "    .dataframe tbody tr th {\n",
              "        vertical-align: top;\n",
              "    }\n",
              "\n",
              "    .dataframe thead th {\n",
              "        text-align: right;\n",
              "    }\n",
              "</style>\n",
              "<table border=\"1\" class=\"dataframe\">\n",
              "  <thead>\n",
              "    <tr style=\"text-align: right;\">\n",
              "      <th></th>\n",
              "      <th>CountryName</th>\n",
              "      <th>CountryCode</th>\n",
              "      <th>BirthRate</th>\n",
              "      <th>InternetUsers</th>\n",
              "      <th>IncomeGroup</th>\n",
              "    </tr>\n",
              "  </thead>\n",
              "  <tbody>\n",
              "    <tr>\n",
              "      <th>0</th>\n",
              "      <td>Aruba</td>\n",
              "      <td>ABW</td>\n",
              "      <td>10.244</td>\n",
              "      <td>78.9</td>\n",
              "      <td>High income</td>\n",
              "    </tr>\n",
              "    <tr>\n",
              "      <th>1</th>\n",
              "      <td>Afghanistan</td>\n",
              "      <td>AFG</td>\n",
              "      <td>35.253</td>\n",
              "      <td>5.9</td>\n",
              "      <td>Low income</td>\n",
              "    </tr>\n",
              "    <tr>\n",
              "      <th>2</th>\n",
              "      <td>Angola</td>\n",
              "      <td>AGO</td>\n",
              "      <td>45.985</td>\n",
              "      <td>19.1</td>\n",
              "      <td>Upper middle income</td>\n",
              "    </tr>\n",
              "    <tr>\n",
              "      <th>3</th>\n",
              "      <td>Albania</td>\n",
              "      <td>ALB</td>\n",
              "      <td>12.877</td>\n",
              "      <td>57.2</td>\n",
              "      <td>Upper middle income</td>\n",
              "    </tr>\n",
              "    <tr>\n",
              "      <th>4</th>\n",
              "      <td>United Arab Emirates</td>\n",
              "      <td>ARE</td>\n",
              "      <td>11.044</td>\n",
              "      <td>88.0</td>\n",
              "      <td>High income</td>\n",
              "    </tr>\n",
              "  </tbody>\n",
              "</table>\n",
              "</div>"
            ],
            "text/plain": [
              "            CountryName CountryCode  ...  InternetUsers          IncomeGroup\n",
              "0                 Aruba         ABW  ...           78.9          High income\n",
              "1           Afghanistan         AFG  ...            5.9           Low income\n",
              "2                Angola         AGO  ...           19.1  Upper middle income\n",
              "3               Albania         ALB  ...           57.2  Upper middle income\n",
              "4  United Arab Emirates         ARE  ...           88.0          High income\n",
              "\n",
              "[5 rows x 5 columns]"
            ]
          },
          "metadata": {
            "tags": []
          },
          "execution_count": 134
        }
      ]
    },
    {
      "cell_type": "code",
      "metadata": {
        "id": "wSlnukzuWdqP",
        "colab_type": "code",
        "outputId": "d1fc8592-b2ce-4757-c2c0-a25776126ed9",
        "colab": {
          "base_uri": "https://localhost:8080/",
          "height": 334
        }
      },
      "source": [
        "# Distribution\n",
        "vis1 = sns.distplot(stats['InternetUsers'])"
      ],
      "execution_count": 0,
      "outputs": [
        {
          "output_type": "display_data",
          "data": {
            "image/png": "[encoded data removed]",
            "text/plain": [
              "<Figure size 720x360 with 1 Axes>"
            ]
          },
          "metadata": {
            "tags": []
          }
        }
      ]
    },
    {
      "cell_type": "code",
      "metadata": {
        "id": "GK5k51jHWt7J",
        "colab_type": "code",
        "outputId": "713b2a51-68a7-4c04-f40e-65725ffa412f",
        "colab": {
          "base_uri": "https://localhost:8080/",
          "height": 334
        }
      },
      "source": [
        "vis1 = sns.distplot(stats['InternetUsers'], bins=40)"
      ],
      "execution_count": 0,
      "outputs": [
        {
          "output_type": "display_data",
          "data": {
            "image/png": "[encoded data removed]",
            "text/plain": [
              "<Figure size 720x360 with 1 Axes>"
            ]
          },
          "metadata": {
            "tags": []
          }
        }
      ]
    },
    {
      "cell_type": "code",
      "metadata": {
        "id": "-p7QUheuXmJ7",
        "colab_type": "code",
        "outputId": "273a5b76-2fa9-4a6a-bd66-8b64586df1c1",
        "colab": {
          "base_uri": "https://localhost:8080/",
          "height": 334
        }
      },
      "source": [
        "# boxplots\n",
        "vis2 = sns.boxplot(data=stats, x='IncomeGroup', y='BirthRate')"
      ],
      "execution_count": 0,
      "outputs": [
        {
          "output_type": "display_data",
          "data": {
            "image/png": "[encoded data removed]",
            "text/plain": [
              "<Figure size 720x360 with 1 Axes>"
            ]
          },
          "metadata": {
            "tags": []
          }
        }
      ]
    },
    {
      "cell_type": "code",
      "metadata": {
        "id": "xwE6G3jOX2QE",
        "colab_type": "code",
        "outputId": "acf9f223-189c-4e8a-c1e9-a33b3efb0222",
        "colab": {
          "base_uri": "https://localhost:8080/",
          "height": 369
        }
      },
      "source": [
        "# Seaborn gallery\n",
        "\n",
        "vis3 = sns.lmplot(data=stats, x='InternetUsers', y='BirthRate', fit_reg=False)"
      ],
      "execution_count": 0,
      "outputs": [
        {
          "output_type": "display_data",
          "data": {
            "image/png": "[encoded data removed]",
            "text/plain": [
              "<Figure size 360x360 with 1 Axes>"
            ]
          },
          "metadata": {
            "tags": []
          }
        }
      ]
    },
    {
      "cell_type": "code",
      "metadata": {
        "id": "Arkt3zqjZywK",
        "colab_type": "code",
        "outputId": "643f7382-9f51-4b23-fb1c-ee16424cd657",
        "colab": {
          "base_uri": "https://localhost:8080/",
          "height": 585
        }
      },
      "source": [
        "# add some color\n",
        "vis3 = sns.lmplot(data=stats, x='InternetUsers', y='BirthRate', fit_reg=False, hue='IncomeGroup', height=8)"
      ],
      "execution_count": 0,
      "outputs": [
        {
          "output_type": "display_data",
          "data": {
            "image/png": "[encoded data removed]",
            "text/plain": [
              "<Figure size 719.125x576 with 1 Axes>"
            ]
          },
          "metadata": {
            "tags": []
          }
        }
      ]
    },
    {
      "cell_type": "markdown",
      "metadata": {
        "id": "4GTVC7e8aEwg",
        "colab_type": "text"
      },
      "source": [
        "Does this mean low income rate people have higher birthrate\n",
        "When people have internet they dont have time to make kids? :)"
      ]
    },
    {
      "cell_type": "code",
      "metadata": {
        "id": "AwKfSGAzZ94a",
        "colab_type": "code",
        "colab": {}
      },
      "source": [
        "# Keyword Arguments in Python"
      ],
      "execution_count": 0,
      "outputs": []
    },
    {
      "cell_type": "code",
      "metadata": {
        "id": "Tc9hQp34bSzH",
        "colab_type": "code",
        "outputId": "411f333a-2f73-4dae-95c7-a229e310efcf",
        "colab": {
          "base_uri": "https://localhost:8080/",
          "height": 585
        }
      },
      "source": [
        "# scatter_kws = {'s': int} s is size of markers\n",
        "vis4 = sns.lmplot(data=stats, x='InternetUsers', y='BirthRate', fit_reg=False, hue='IncomeGroup', height=8, scatter_kws={'s':200})"
      ],
      "execution_count": 0,
      "outputs": [
        {
          "output_type": "display_data",
          "data": {
            "image/png": "[encoded data removed]",
            "text/plain": [
              "<Figure size 719.125x576 with 1 Axes>"
            ]
          },
          "metadata": {
            "tags": []
          }
        }
      ]
    },
    {
      "cell_type": "code",
      "metadata": {
        "id": "Uixpq9z2bZgS",
        "colab_type": "code",
        "outputId": "eec3267b-9cf6-4ceb-e014-ca67c3f79248",
        "colab": {
          "base_uri": "https://localhost:8080/",
          "height": 198
        }
      },
      "source": [
        "stats.head()"
      ],
      "execution_count": 0,
      "outputs": [
        {
          "output_type": "execute_result",
          "data": {
            "text/html": [
              "<div>\n",
              "<style scoped>\n",
              "    .dataframe tbody tr th:only-of-type {\n",
              "        vertical-align: middle;\n",
              "    }\n",
              "\n",
              "    .dataframe tbody tr th {\n",
              "        vertical-align: top;\n",
              "    }\n",
              "\n",
              "    .dataframe thead th {\n",
              "        text-align: right;\n",
              "    }\n",
              "</style>\n",
              "<table border=\"1\" class=\"dataframe\">\n",
              "  <thead>\n",
              "    <tr style=\"text-align: right;\">\n",
              "      <th></th>\n",
              "      <th>CountryName</th>\n",
              "      <th>CountryCode</th>\n",
              "      <th>BirthRate</th>\n",
              "      <th>InternetUsers</th>\n",
              "      <th>IncomeGroup</th>\n",
              "    </tr>\n",
              "  </thead>\n",
              "  <tbody>\n",
              "    <tr>\n",
              "      <th>0</th>\n",
              "      <td>Aruba</td>\n",
              "      <td>ABW</td>\n",
              "      <td>10.244</td>\n",
              "      <td>78.9</td>\n",
              "      <td>High income</td>\n",
              "    </tr>\n",
              "    <tr>\n",
              "      <th>1</th>\n",
              "      <td>Afghanistan</td>\n",
              "      <td>AFG</td>\n",
              "      <td>35.253</td>\n",
              "      <td>5.9</td>\n",
              "      <td>Low income</td>\n",
              "    </tr>\n",
              "    <tr>\n",
              "      <th>2</th>\n",
              "      <td>Angola</td>\n",
              "      <td>AGO</td>\n",
              "      <td>45.985</td>\n",
              "      <td>19.1</td>\n",
              "      <td>Upper middle income</td>\n",
              "    </tr>\n",
              "    <tr>\n",
              "      <th>3</th>\n",
              "      <td>Albania</td>\n",
              "      <td>ALB</td>\n",
              "      <td>12.877</td>\n",
              "      <td>57.2</td>\n",
              "      <td>Upper middle income</td>\n",
              "    </tr>\n",
              "    <tr>\n",
              "      <th>4</th>\n",
              "      <td>United Arab Emirates</td>\n",
              "      <td>ARE</td>\n",
              "      <td>11.044</td>\n",
              "      <td>88.0</td>\n",
              "      <td>High income</td>\n",
              "    </tr>\n",
              "  </tbody>\n",
              "</table>\n",
              "</div>"
            ],
            "text/plain": [
              "            CountryName CountryCode  ...  InternetUsers          IncomeGroup\n",
              "0                 Aruba         ABW  ...           78.9          High income\n",
              "1           Afghanistan         AFG  ...            5.9           Low income\n",
              "2                Angola         AGO  ...           19.1  Upper middle income\n",
              "3               Albania         ALB  ...           57.2  Upper middle income\n",
              "4  United Arab Emirates         ARE  ...           88.0          High income\n",
              "\n",
              "[5 rows x 5 columns]"
            ]
          },
          "metadata": {
            "tags": []
          },
          "execution_count": 152
        }
      ]
    },
    {
      "cell_type": "code",
      "metadata": {
        "id": "5xsscgG4bZqd",
        "colab_type": "code",
        "colab": {}
      },
      "source": [
        "# Copy the code inside cell below and paste/run in your notebook to generate three new lists\n",
        "Country_Code = list ([\"ABW\",\"AFG\",\"AGO\",\"ALB\",\"ARE\",\"ARG\",\"ARM\",\"ATG\",\"AUS\",\"AUT\",\"AZE\",\"BDI\",\"BEL\",\"BEN\",\"BFA\",\"BGD\",\"BGR\",\"BHR\",\"BHS\",\"BIH\",\"BLR\",\"BLZ\",\"BOL\",\"BRA\",\"BRB\",\"BRN\",\"BTN\",\"BWA\",\"CAF\",\"CAN\",\"CHE\",\"CHL\",\"CHN\",\"CIV\",\"CMR\",\"COG\",\"COL\",\"COM\",\"CPV\",\"CRI\",\"CUB\",\"CYP\",\"CZE\",\"DEU\",\"DJI\",\"DNK\",\"DOM\",\"DZA\",\"ECU\",\"EGY\",\"ERI\",\"ESP\",\"EST\",\"ETH\",\"FIN\",\"FJI\",\"FRA\",\"FSM\",\"GAB\",\"GBR\",\"GEO\",\"GHA\",\"GIN\",\"GMB\",\"GNB\",\"GNQ\",\"GRC\",\"GRD\",\"GTM\",\"GUM\",\"GUY\",\"HKG\",\"HND\",\"HRV\",\"HTI\",\"HUN\",\"IDN\",\"IND\",\"IRL\",\"IRN\",\"IRQ\",\"ISL\",\"ITA\",\"JAM\",\"JOR\",\"JPN\",\"KAZ\",\"KEN\",\"KGZ\",\"KHM\",\"KIR\",\"KOR\",\"KWT\",\"LAO\",\"LBN\",\"LBR\",\"LBY\",\"LCA\",\"LKA\",\"LSO\",\"LTU\",\"LUX\",\"LVA\",\"MAC\",\"MAR\",\"MDA\",\"MDG\",\"MDV\",\"MEX\",\"MKD\",\"MLI\",\"MLT\",\"MMR\",\"MNE\",\"MNG\",\"MOZ\",\"MRT\",\"MUS\",\"MWI\",\"MYS\",\"NAM\",\"NCL\",\"NER\",\"NGA\",\"NIC\",\"NLD\",\"NOR\",\"NPL\",\"NZL\",\"OMN\",\"PAK\",\"PAN\",\"PER\",\"PHL\",\"PNG\",\"POL\",\"PRI\",\"PRT\",\"PRY\",\"PYF\",\"QAT\",\"ROU\",\"RUS\",\"RWA\",\"SAU\",\"SDN\",\"SEN\",\"SGP\",\"SLB\",\"SLE\",\"SLV\",\"SOM\",\"SSD\",\"STP\",\"SUR\",\"SVK\",\"SVN\",\"SWE\",\"SWZ\",\"SYR\",\"TCD\",\"TGO\",\"THA\",\"TJK\",\"TKM\",\"TLS\",\"TON\",\"TTO\",\"TUN\",\"TUR\",\"TZA\",\"UGA\",\"UKR\",\"URY\",\"USA\",\"UZB\",\"VCT\",\"VEN\",\"VIR\",\"VNM\",\"VUT\",\"WSM\",\"YEM\",\"ZAF\",\"COD\",\"ZMB\",\"ZWE\"])\n",
        "Life_Expectancy_At_Birth_1960 = list ([65.5693658536586,32.328512195122,32.9848292682927,62.2543658536585,52.2432195121951,65.2155365853659,65.8634634146342,61.7827317073171,70.8170731707317,68.5856097560976,60.836243902439,41.2360487804878,69.7019512195122,37.2782682926829,34.4779024390244,45.8293170731707,69.2475609756098,52.0893658536585,62.7290487804878,60.2762195121951,67.7080975609756,59.9613658536585,42.1183170731707,54.2054634146342,60.7380487804878,62.5003658536585,32.3593658536585,50.5477317073171,36.4826341463415,71.1331707317073,71.3134146341463,57.4582926829268,43.4658048780488,36.8724146341463,41.523756097561,48.5816341463415,56.716756097561,41.4424390243903,48.8564146341463,60.5761951219512,63.9046585365854,69.5939268292683,70.3487804878049,69.3129512195122,44.0212682926829,72.1765853658537,51.8452682926829,46.1351219512195,53.215,48.0137073170732,37.3629024390244,69.1092682926829,67.9059756097561,38.4057073170732,68.819756097561,55.9584878048781,69.8682926829268,57.5865853658537,39.5701219512195,71.1268292682927,63.4318536585366,45.8314634146342,34.8863902439024,32.0422195121951,37.8404390243902,36.7330487804878,68.1639024390244,59.8159268292683,45.5316341463415,61.2263414634146,60.2787317073171,66.9997073170732,46.2883170731707,64.6086585365854,42.1000975609756,68.0031707317073,48.6403170731707,41.1719512195122,69.691756097561,44.945512195122,48.0306829268293,73.4286585365854,69.1239024390244,64.1918292682927,52.6852682926829,67.6660975609756,58.3675853658537,46.3624146341463,56.1280731707317,41.2320243902439,49.2159756097561,53.0013170731707,60.3479512195122,43.2044634146342,63.2801219512195,34.7831707317073,42.6411951219512,57.303756097561,59.7471463414634,46.5107073170732,69.8473170731707,68.4463902439024,69.7868292682927,64.6609268292683,48.4466341463415,61.8127804878049,39.9746829268293,37.2686341463415,57.0656341463415,60.6228048780488,28.2116097560976,67.6017804878049,42.7363902439024,63.7056097560976,48.3688048780488,35.0037073170732,43.4830975609756,58.7452195121951,37.7736341463415,59.4753414634146,46.8803902439024,58.6390243902439,35.5150487804878,37.1829512195122,46.9988292682927,73.3926829268293,73.549756097561,35.1708292682927,71.2365853658537,42.6670731707317,45.2904634146342,60.8817073170732,47.6915853658537,57.8119268292683,38.462243902439,67.6804878048781,68.7196097560976,62.8089268292683,63.7937073170732,56.3570487804878,61.2060731707317,65.6424390243903,66.0552926829268,42.2492926829268,45.6662682926829,48.1876341463415,38.206,65.6598292682927,49.3817073170732,30.3315365853659,49.9479268292683,36.9658780487805,31.6767073170732,50.4513658536585,59.6801219512195,69.9759268292683,68.9780487804878,73.0056097560976,44.2337804878049,52.768243902439,38.0161219512195,40.2728292682927,54.6993170731707,56.1535365853659,54.4586829268293,33.7271219512195,61.3645365853659,62.6575853658537,42.009756097561,45.3844146341463,43.6538780487805,43.9835609756098,68.2995365853659,67.8963902439025,69.7707317073171,58.8855365853659,57.7238780487805,59.2851219512195,63.7302195121951,59.0670243902439,46.4874878048781,49.969512195122,34.3638048780488,49.0362926829268,41.0180487804878,45.1098048780488,51.5424634146342])\n",
        "Life_Expectancy_At_Birth_2013 = list ([75.3286585365854,60.0282682926829,51.8661707317073,77.537243902439,77.1956341463415,75.9860975609756,74.5613658536585,75.7786585365854,82.1975609756098,80.890243902439,70.6931463414634,56.2516097560976,80.3853658536585,59.3120243902439,58.2406341463415,71.245243902439,74.4658536585366,76.5459512195122,75.0735365853659,76.2769268292683,72.4707317073171,69.9820487804878,67.9134390243903,74.1224390243903,75.3339512195122,78.5466585365854,69.1029268292683,64.3608048780488,49.8798780487805,81.4011219512195,82.7487804878049,81.1979268292683,75.3530243902439,51.2084634146342,55.0418048780488,61.6663902439024,73.8097317073171,62.9321707317073,72.9723658536585,79.2252195121951,79.2563902439025,79.9497804878049,78.2780487804878,81.0439024390244,61.6864634146342,80.3024390243903,73.3199024390244,74.5689512195122,75.648512195122,70.9257804878049,63.1778780487805,82.4268292682927,76.4243902439025,63.4421951219512,80.8317073170732,69.9179268292683,81.9682926829268,68.9733902439024,63.8435853658537,80.9560975609756,74.079512195122,61.1420731707317,58.216487804878,59.9992682926829,54.8384146341464,57.2908292682927,80.6341463414634,73.1935609756098,71.4863902439024,78.872512195122,66.3100243902439,83.8317073170732,72.9428536585366,77.1268292682927,62.4011463414634,75.2682926829268,68.7046097560976,67.6604146341463,81.0439024390244,75.1259756097561,69.4716829268293,83.1170731707317,82.290243902439,73.4689268292683,73.9014146341463,83.3319512195122,70.45,60.9537804878049,70.2024390243902,67.7720487804878,65.7665853658537,81.459756097561,74.462756097561,65.687243902439,80.1288780487805,60.5203902439024,71.6576829268293,74.9127073170732,74.2402926829268,49.3314634146342,74.1634146341464,81.7975609756098,73.9804878048781,80.3391463414634,73.7090487804878,68.811512195122,64.6739024390244,76.6026097560976,76.5326585365854,75.1870487804878,57.5351951219512,80.7463414634146,65.6540975609756,74.7583658536585,69.0618048780488,54.641512195122,62.8027073170732,74.46,61.466,74.567512195122,64.3438780487805,77.1219512195122,60.8281463414634,52.4421463414634,74.514756097561,81.1048780487805,81.4512195121951,69.222,81.4073170731707,76.8410487804878,65.9636829268293,77.4192195121951,74.2838536585366,68.1315609756097,62.4491707317073,76.8487804878049,78.7111951219512,80.3731707317073,72.7991707317073,76.3340731707317,78.4184878048781,74.4634146341463,71.0731707317073,63.3948292682927,74.1776341463415,63.1670487804878,65.878756097561,82.3463414634146,67.7189268292683,50.3631219512195,72.4981463414634,55.0230243902439,55.2209024390244,66.259512195122,70.99,76.2609756097561,80.2780487804878,81.7048780487805,48.9379268292683,74.7157804878049,51.1914878048781,59.1323658536585,74.2469268292683,69.4001707317073,65.4565609756098,67.5223658536585,72.6403414634147,70.3052926829268,73.6463414634147,75.1759512195122,64.2918292682927,57.7676829268293,71.159512195122,76.8361951219512,78.8414634146341,68.2275853658537,72.8108780487805,74.0744146341464,79.6243902439024,75.756487804878,71.669243902439,73.2503902439024,63.583512195122,56.7365853658537,58.2719268292683,59.2373658536585,55.633])"
      ],
      "execution_count": 0,
      "outputs": []
    },
    {
      "cell_type": "code",
      "metadata": {
        "id": "kfMyOUyqbcUh",
        "colab_type": "code",
        "colab": {}
      },
      "source": [
        "# Copy the code inside cell below and paste/run in your notebook to generate three new lists\n",
        "Countries_2012_Dataset = list ([\"Aruba\",\"Afghanistan\",\"Angola\",\"Albania\",\"United Arab Emirates\",\"Argentina\",\"Armenia\",\"Antigua and Barbuda\",\"Australia\",\"Austria\",\"Azerbaijan\",\"Burundi\",\"Belgium\",\"Benin\",\"Burkina Faso\",\"Bangladesh\",\"Bulgaria\",\"Bahrain\",\"Bahamas, The\",\"Bosnia and Herzegovina\",\"Belarus\",\"Belize\",\"Bermuda\",\"Bolivia\",\"Brazil\",\"Barbados\",\"Brunei Darussalam\",\"Bhutan\",\"Botswana\",\"Central African Republic\",\"Canada\",\"Switzerland\",\"Chile\",\"China\",\"Cote d'Ivoire\",\"Cameroon\",\"Congo, Rep.\",\"Colombia\",\"Comoros\",\"Cabo Verde\",\"Costa Rica\",\"Cuba\",\"Cayman Islands\",\"Cyprus\",\"Czech Republic\",\"Germany\",\"Djibouti\",\"Denmark\",\"Dominican Republic\",\"Algeria\",\"Ecuador\",\"Egypt, Arab Rep.\",\"Eritrea\",\"Spain\",\"Estonia\",\"Ethiopia\",\"Finland\",\"Fiji\",\"France\",\"Micronesia, Fed. Sts.\",\"Gabon\",\"United Kingdom\",\"Georgia\",\"Ghana\",\"Guinea\",\"Gambia, The\",\"Guinea-Bissau\",\"Equatorial Guinea\",\"Greece\",\"Grenada\",\"Greenland\",\"Guatemala\",\"Guam\",\"Guyana\",\"Hong Kong SAR, China\",\"Honduras\",\"Croatia\",\"Haiti\",\"Hungary\",\"Indonesia\",\"India\",\"Ireland\",\"Iran, Islamic Rep.\",\"Iraq\",\"Iceland\",\"Israel\",\"Italy\",\"Jamaica\",\"Jordan\",\"Japan\",\"Kazakhstan\",\"Kenya\",\"Kyrgyz Republic\",\"Cambodia\",\"Kiribati\",\"Korea, Rep.\",\"Kuwait\",\"Lao PDR\",\"Lebanon\",\"Liberia\",\"Libya\",\"St. Lucia\",\"Liechtenstein\",\"Sri Lanka\",\"Lesotho\",\"Lithuania\",\"Luxembourg\",\"Latvia\",\"Macao SAR, China\",\"Morocco\",\"Moldova\",\"Madagascar\",\"Maldives\",\"Mexico\",\"Macedonia, FYR\",\"Mali\",\"Malta\",\"Myanmar\",\"Montenegro\",\"Mongolia\",\"Mozambique\",\"Mauritania\",\"Mauritius\",\"Malawi\",\"Malaysia\",\"Namibia\",\"New Caledonia\",\"Niger\",\"Nigeria\",\"Nicaragua\",\"Netherlands\",\"Norway\",\"Nepal\",\"New Zealand\",\"Oman\",\"Pakistan\",\"Panama\",\"Peru\",\"Philippines\",\"Papua New Guinea\",\"Poland\",\"Puerto Rico\",\"Portugal\",\"Paraguay\",\"French Polynesia\",\"Qatar\",\"Romania\",\"Russian Federation\",\"Rwanda\",\"Saudi Arabia\",\"Sudan\",\"Senegal\",\"Singapore\",\"Solomon Islands\",\"Sierra Leone\",\"El Salvador\",\"Somalia\",\"Serbia\",\"South Sudan\",\"Sao Tome and Principe\",\"Suriname\",\"Slovak Republic\",\"Slovenia\",\"Sweden\",\"Swaziland\",\"Seychelles\",\"Syrian Arab Republic\",\"Chad\",\"Togo\",\"Thailand\",\"Tajikistan\",\"Turkmenistan\",\"Timor-Leste\",\"Tonga\",\"Trinidad and Tobago\",\"Tunisia\",\"Turkey\",\"Tanzania\",\"Uganda\",\"Ukraine\",\"Uruguay\",\"United States\",\"Uzbekistan\",\"St. Vincent and the Grenadines\",\"Venezuela, RB\",\"Virgin Islands (U.S.)\",\"Vietnam\",\"Vanuatu\",\"West Bank and Gaza\",\"Samoa\",\"Yemen, Rep.\",\"South Africa\",\"Congo, Dem. Rep.\",\"Zambia\",\"Zimbabwe\"])\n",
        "Codes_2012_Dataset = list ([\"ABW\",\"AFG\",\"AGO\",\"ALB\",\"ARE\",\"ARG\",\"ARM\",\"ATG\",\"AUS\",\"AUT\",\"AZE\",\"BDI\",\"BEL\",\"BEN\",\"BFA\",\"BGD\",\"BGR\",\"BHR\",\"BHS\",\"BIH\",\"BLR\",\"BLZ\",\"BMU\",\"BOL\",\"BRA\",\"BRB\",\"BRN\",\"BTN\",\"BWA\",\"CAF\",\"CAN\",\"CHE\",\"CHL\",\"CHN\",\"CIV\",\"CMR\",\"COG\",\"COL\",\"COM\",\"CPV\",\"CRI\",\"CUB\",\"CYM\",\"CYP\",\"CZE\",\"DEU\",\"DJI\",\"DNK\",\"DOM\",\"DZA\",\"ECU\",\"EGY\",\"ERI\",\"ESP\",\"EST\",\"ETH\",\"FIN\",\"FJI\",\"FRA\",\"FSM\",\"GAB\",\"GBR\",\"GEO\",\"GHA\",\"GIN\",\"GMB\",\"GNB\",\"GNQ\",\"GRC\",\"GRD\",\"GRL\",\"GTM\",\"GUM\",\"GUY\",\"HKG\",\"HND\",\"HRV\",\"HTI\",\"HUN\",\"IDN\",\"IND\",\"IRL\",\"IRN\",\"IRQ\",\"ISL\",\"ISR\",\"ITA\",\"JAM\",\"JOR\",\"JPN\",\"KAZ\",\"KEN\",\"KGZ\",\"KHM\",\"KIR\",\"KOR\",\"KWT\",\"LAO\",\"LBN\",\"LBR\",\"LBY\",\"LCA\",\"LIE\",\"LKA\",\"LSO\",\"LTU\",\"LUX\",\"LVA\",\"MAC\",\"MAR\",\"MDA\",\"MDG\",\"MDV\",\"MEX\",\"MKD\",\"MLI\",\"MLT\",\"MMR\",\"MNE\",\"MNG\",\"MOZ\",\"MRT\",\"MUS\",\"MWI\",\"MYS\",\"NAM\",\"NCL\",\"NER\",\"NGA\",\"NIC\",\"NLD\",\"NOR\",\"NPL\",\"NZL\",\"OMN\",\"PAK\",\"PAN\",\"PER\",\"PHL\",\"PNG\",\"POL\",\"PRI\",\"PRT\",\"PRY\",\"PYF\",\"QAT\",\"ROU\",\"RUS\",\"RWA\",\"SAU\",\"SDN\",\"SEN\",\"SGP\",\"SLB\",\"SLE\",\"SLV\",\"SOM\",\"SRB\",\"SSD\",\"STP\",\"SUR\",\"SVK\",\"SVN\",\"SWE\",\"SWZ\",\"SYC\",\"SYR\",\"TCD\",\"TGO\",\"THA\",\"TJK\",\"TKM\",\"TLS\",\"TON\",\"TTO\",\"TUN\",\"TUR\",\"TZA\",\"UGA\",\"UKR\",\"URY\",\"USA\",\"UZB\",\"VCT\",\"VEN\",\"VIR\",\"VNM\",\"VUT\",\"PSE\",\"WSM\",\"YEM\",\"ZAF\",\"COD\",\"ZMB\",\"ZWE\"])\n",
        "Regions_2012_Dataset = list ([\"The Americas\",\"Asia\",\"Africa\",\"Europe\",\"Middle East\",\"The Americas\",\"Asia\",\"The Americas\",\"Oceania\",\"Europe\",\"Asia\",\"Africa\",\"Europe\",\"Africa\",\"Africa\",\"Asia\",\"Europe\",\"Middle East\",\"The Americas\",\"Europe\",\"Europe\",\"The Americas\",\"The Americas\",\"The Americas\",\"The Americas\",\"The Americas\",\"Asia\",\"Asia\",\"Africa\",\"Africa\",\"The Americas\",\"Europe\",\"The Americas\",\"Asia\",\"Africa\",\"Africa\",\"Africa\",\"The Americas\",\"Africa\",\"Africa\",\"The Americas\",\"The Americas\",\"The Americas\",\"Europe\",\"Europe\",\"Europe\",\"Africa\",\"Europe\",\"The Americas\",\"Africa\",\"The Americas\",\"Africa\",\"Africa\",\"Europe\",\"Europe\",\"Africa\",\"Europe\",\"Oceania\",\"Europe\",\"Oceania\",\"Africa\",\"Europe\",\"Asia\",\"Africa\",\"Africa\",\"Africa\",\"Africa\",\"Africa\",\"Europe\",\"The Americas\",\"The Americas\",\"The Americas\",\"Oceania\",\"The Americas\",\"Asia\",\"The Americas\",\"Europe\",\"The Americas\",\"Europe\",\"Asia\",\"Asia\",\"Europe\",\"Middle East\",\"Middle East\",\"Europe\",\"Middle East\",\"Europe\",\"The Americas\",\"Middle East\",\"Asia\",\"Asia\",\"Africa\",\"Asia\",\"Asia\",\"Oceania\",\"Asia\",\"Middle East\",\"Asia\",\"Middle East\",\"Africa\",\"Africa\",\"The Americas\",\"Europe\",\"Asia\",\"Africa\",\"Europe\",\"Europe\",\"Europe\",\"Asia\",\"Africa\",\"Europe\",\"Africa\",\"Asia\",\"The Americas\",\"Europe\",\"Africa\",\"Europe\",\"Asia\",\"Europe\",\"Asia\",\"Africa\",\"Africa\",\"Africa\",\"Africa\",\"Asia\",\"Africa\",\"Oceania\",\"Africa\",\"Africa\",\"The Americas\",\"Europe\",\"Europe\",\"Asia\",\"Oceania\",\"Middle East\",\"Asia\",\"The Americas\",\"The Americas\",\"Asia\",\"Oceania\",\"Europe\",\"The Americas\",\"Europe\",\"The Americas\",\"Oceania\",\"Middle East\",\"Europe\",\"Europe\",\"Africa\",\"Middle East\",\"Africa\",\"Africa\",\"Asia\",\"Oceania\",\"Africa\",\"The Americas\",\"Africa\",\"Europe\",\"Africa\",\"Africa\",\"The Americas\",\"Europe\",\"Europe\",\"Europe\",\"Africa\",\"Africa\",\"Middle East\",\"Africa\",\"Africa\",\"Asia\",\"Asia\",\"Asia\",\"Asia\",\"Oceania\",\"The Americas\",\"Africa\",\"Europe\",\"Africa\",\"Africa\",\"Europe\",\"The Americas\",\"The Americas\",\"Asia\",\"The Americas\",\"The Americas\",\"The Americas\",\"Asia\",\"Oceania\",\"Middle East\",\"Oceania\",\"Middle East\",\"Africa\",\"Africa\",\"Africa\",\"Africa\"])\n"
      ],
      "execution_count": 0,
      "outputs": []
    },
    {
      "cell_type": "code",
      "metadata": {
        "id": "DLfI4xo8bdXs",
        "colab_type": "code",
        "colab": {}
      },
      "source": [
        ""
      ],
      "execution_count": 0,
      "outputs": []
    },
    {
      "cell_type": "code",
      "metadata": {
        "id": "wWs6uIZFbdi1",
        "colab_type": "code",
        "colab": {}
      },
      "source": [
        ""
      ],
      "execution_count": 0,
      "outputs": []
    }
  ]
}